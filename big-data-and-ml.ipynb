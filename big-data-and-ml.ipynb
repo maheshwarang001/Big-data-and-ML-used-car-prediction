{
 "cells": [
  {
   "cell_type": "code",
   "execution_count": 1,
   "metadata": {
    "_cell_guid": "b1076dfc-b9ad-4769-8c92-a6c4dae69d19",
    "_uuid": "8f2839f25d086af736a60e9eeb907d3b93b6e0e5",
    "execution": {
     "iopub.execute_input": "2023-04-13T10:07:30.483504Z",
     "iopub.status.busy": "2023-04-13T10:07:30.482711Z",
     "iopub.status.idle": "2023-04-13T10:07:30.496265Z",
     "shell.execute_reply": "2023-04-13T10:07:30.495705Z",
     "shell.execute_reply.started": "2023-04-13T09:15:02.617240Z"
    },
    "papermill": {
     "duration": 0.070278,
     "end_time": "2023-04-13T10:07:30.496404",
     "exception": false,
     "start_time": "2023-04-13T10:07:30.426126",
     "status": "completed"
    },
    "tags": []
   },
   "outputs": [
    {
     "name": "stdout",
     "output_type": "stream",
     "text": [
      "/kaggle/input/craigslist-carstrucks-data/vehicles.csv\n"
     ]
    }
   ],
   "source": [
    "# This Python 3 environment comes with many helpful analytics libraries installed\n",
    "# It is defined by the kaggle/python Docker image: https://github.com/kaggle/docker-python\n",
    "# For example, here's several helpful packages to load\n",
    "\n",
    "import numpy as np # linear algebra\n",
    "import pandas as pd # data processing, CSV file I/O (e.g. pd.read_csv)\n",
    "\n",
    "# Input data files are available in the read-only \"../input/\" directory\n",
    "# For example, running this (by clicking run or pressing Shift+Enter) will list all files under the input directory\n",
    "\n",
    "import os\n",
    "for dirname, _, filenames in os.walk('/kaggle/input'):\n",
    "    for filename in filenames:\n",
    "        print(os.path.join(dirname, filename))\n",
    "\n",
    "# You can write up to 5GB to the current directory (/kaggle/working/) that gets preserved as output when you create a version using \"Save & Run All\" \n",
    "# You can also write temporary files to /kaggle/temp/, but they won't be saved outside of the current session"
   ]
  },
  {
   "cell_type": "code",
   "execution_count": 2,
   "metadata": {
    "_cell_guid": "79c7e3d0-c299-4dcb-8224-4455121ee9b0",
    "_uuid": "d629ff2d2480ee46fbb7e2d37f6b5fab8052498a",
    "execution": {
     "iopub.execute_input": "2023-04-13T10:07:30.593864Z",
     "iopub.status.busy": "2023-04-13T10:07:30.593126Z",
     "iopub.status.idle": "2023-04-13T10:08:10.470400Z",
     "shell.execute_reply": "2023-04-13T10:08:10.469148Z",
     "shell.execute_reply.started": "2023-04-13T09:15:02.635157Z"
    },
    "papermill": {
     "duration": 39.926868,
     "end_time": "2023-04-13T10:08:10.470610",
     "exception": false,
     "start_time": "2023-04-13T10:07:30.543742",
     "status": "completed"
    },
    "tags": []
   },
   "outputs": [],
   "source": [
    "df=pd.read_csv(\"/kaggle/input/craigslist-carstrucks-data/vehicles.csv\")"
   ]
  },
  {
   "cell_type": "code",
   "execution_count": 3,
   "metadata": {
    "execution": {
     "iopub.execute_input": "2023-04-13T10:08:10.571209Z",
     "iopub.status.busy": "2023-04-13T10:08:10.570461Z",
     "iopub.status.idle": "2023-04-13T10:08:11.504457Z",
     "shell.execute_reply": "2023-04-13T10:08:11.503879Z",
     "shell.execute_reply.started": "2023-04-13T09:15:43.300434Z"
    },
    "papermill": {
     "duration": 0.986636,
     "end_time": "2023-04-13T10:08:11.504631",
     "exception": false,
     "start_time": "2023-04-13T10:08:10.517995",
     "status": "completed"
    },
    "tags": []
   },
   "outputs": [],
   "source": [
    "import seaborn as sns\n",
    "import matplotlib.pyplot as plt\n",
    "sns.set()"
   ]
  },
  {
   "cell_type": "code",
   "execution_count": 4,
   "metadata": {
    "execution": {
     "iopub.execute_input": "2023-04-13T10:08:11.620141Z",
     "iopub.status.busy": "2023-04-13T10:08:11.608919Z",
     "iopub.status.idle": "2023-04-13T10:08:11.642449Z",
     "shell.execute_reply": "2023-04-13T10:08:11.641667Z",
     "shell.execute_reply.started": "2023-04-13T09:15:44.127505Z"
    },
    "papermill": {
     "duration": 0.09048,
     "end_time": "2023-04-13T10:08:11.642618",
     "exception": false,
     "start_time": "2023-04-13T10:08:11.552138",
     "status": "completed"
    },
    "tags": []
   },
   "outputs": [
    {
     "data": {
      "text/html": [
       "<div>\n",
       "<style scoped>\n",
       "    .dataframe tbody tr th:only-of-type {\n",
       "        vertical-align: middle;\n",
       "    }\n",
       "\n",
       "    .dataframe tbody tr th {\n",
       "        vertical-align: top;\n",
       "    }\n",
       "\n",
       "    .dataframe thead th {\n",
       "        text-align: right;\n",
       "    }\n",
       "</style>\n",
       "<table border=\"1\" class=\"dataframe\">\n",
       "  <thead>\n",
       "    <tr style=\"text-align: right;\">\n",
       "      <th></th>\n",
       "      <th>id</th>\n",
       "      <th>url</th>\n",
       "      <th>region</th>\n",
       "      <th>region_url</th>\n",
       "      <th>price</th>\n",
       "      <th>year</th>\n",
       "      <th>manufacturer</th>\n",
       "      <th>model</th>\n",
       "      <th>condition</th>\n",
       "      <th>cylinders</th>\n",
       "      <th>...</th>\n",
       "      <th>size</th>\n",
       "      <th>type</th>\n",
       "      <th>paint_color</th>\n",
       "      <th>image_url</th>\n",
       "      <th>description</th>\n",
       "      <th>county</th>\n",
       "      <th>state</th>\n",
       "      <th>lat</th>\n",
       "      <th>long</th>\n",
       "      <th>posting_date</th>\n",
       "    </tr>\n",
       "  </thead>\n",
       "  <tbody>\n",
       "    <tr>\n",
       "      <th>0</th>\n",
       "      <td>7222695916</td>\n",
       "      <td>https://prescott.craigslist.org/cto/d/prescott...</td>\n",
       "      <td>prescott</td>\n",
       "      <td>https://prescott.craigslist.org</td>\n",
       "      <td>6000</td>\n",
       "      <td>NaN</td>\n",
       "      <td>NaN</td>\n",
       "      <td>NaN</td>\n",
       "      <td>NaN</td>\n",
       "      <td>NaN</td>\n",
       "      <td>...</td>\n",
       "      <td>NaN</td>\n",
       "      <td>NaN</td>\n",
       "      <td>NaN</td>\n",
       "      <td>NaN</td>\n",
       "      <td>NaN</td>\n",
       "      <td>NaN</td>\n",
       "      <td>az</td>\n",
       "      <td>NaN</td>\n",
       "      <td>NaN</td>\n",
       "      <td>NaN</td>\n",
       "    </tr>\n",
       "    <tr>\n",
       "      <th>1</th>\n",
       "      <td>7218891961</td>\n",
       "      <td>https://fayar.craigslist.org/ctd/d/bentonville...</td>\n",
       "      <td>fayetteville</td>\n",
       "      <td>https://fayar.craigslist.org</td>\n",
       "      <td>11900</td>\n",
       "      <td>NaN</td>\n",
       "      <td>NaN</td>\n",
       "      <td>NaN</td>\n",
       "      <td>NaN</td>\n",
       "      <td>NaN</td>\n",
       "      <td>...</td>\n",
       "      <td>NaN</td>\n",
       "      <td>NaN</td>\n",
       "      <td>NaN</td>\n",
       "      <td>NaN</td>\n",
       "      <td>NaN</td>\n",
       "      <td>NaN</td>\n",
       "      <td>ar</td>\n",
       "      <td>NaN</td>\n",
       "      <td>NaN</td>\n",
       "      <td>NaN</td>\n",
       "    </tr>\n",
       "    <tr>\n",
       "      <th>2</th>\n",
       "      <td>7221797935</td>\n",
       "      <td>https://keys.craigslist.org/cto/d/summerland-k...</td>\n",
       "      <td>florida keys</td>\n",
       "      <td>https://keys.craigslist.org</td>\n",
       "      <td>21000</td>\n",
       "      <td>NaN</td>\n",
       "      <td>NaN</td>\n",
       "      <td>NaN</td>\n",
       "      <td>NaN</td>\n",
       "      <td>NaN</td>\n",
       "      <td>...</td>\n",
       "      <td>NaN</td>\n",
       "      <td>NaN</td>\n",
       "      <td>NaN</td>\n",
       "      <td>NaN</td>\n",
       "      <td>NaN</td>\n",
       "      <td>NaN</td>\n",
       "      <td>fl</td>\n",
       "      <td>NaN</td>\n",
       "      <td>NaN</td>\n",
       "      <td>NaN</td>\n",
       "    </tr>\n",
       "    <tr>\n",
       "      <th>3</th>\n",
       "      <td>7222270760</td>\n",
       "      <td>https://worcester.craigslist.org/cto/d/west-br...</td>\n",
       "      <td>worcester / central MA</td>\n",
       "      <td>https://worcester.craigslist.org</td>\n",
       "      <td>1500</td>\n",
       "      <td>NaN</td>\n",
       "      <td>NaN</td>\n",
       "      <td>NaN</td>\n",
       "      <td>NaN</td>\n",
       "      <td>NaN</td>\n",
       "      <td>...</td>\n",
       "      <td>NaN</td>\n",
       "      <td>NaN</td>\n",
       "      <td>NaN</td>\n",
       "      <td>NaN</td>\n",
       "      <td>NaN</td>\n",
       "      <td>NaN</td>\n",
       "      <td>ma</td>\n",
       "      <td>NaN</td>\n",
       "      <td>NaN</td>\n",
       "      <td>NaN</td>\n",
       "    </tr>\n",
       "    <tr>\n",
       "      <th>4</th>\n",
       "      <td>7210384030</td>\n",
       "      <td>https://greensboro.craigslist.org/cto/d/trinit...</td>\n",
       "      <td>greensboro</td>\n",
       "      <td>https://greensboro.craigslist.org</td>\n",
       "      <td>4900</td>\n",
       "      <td>NaN</td>\n",
       "      <td>NaN</td>\n",
       "      <td>NaN</td>\n",
       "      <td>NaN</td>\n",
       "      <td>NaN</td>\n",
       "      <td>...</td>\n",
       "      <td>NaN</td>\n",
       "      <td>NaN</td>\n",
       "      <td>NaN</td>\n",
       "      <td>NaN</td>\n",
       "      <td>NaN</td>\n",
       "      <td>NaN</td>\n",
       "      <td>nc</td>\n",
       "      <td>NaN</td>\n",
       "      <td>NaN</td>\n",
       "      <td>NaN</td>\n",
       "    </tr>\n",
       "  </tbody>\n",
       "</table>\n",
       "<p>5 rows × 26 columns</p>\n",
       "</div>"
      ],
      "text/plain": [
       "           id                                                url  \\\n",
       "0  7222695916  https://prescott.craigslist.org/cto/d/prescott...   \n",
       "1  7218891961  https://fayar.craigslist.org/ctd/d/bentonville...   \n",
       "2  7221797935  https://keys.craigslist.org/cto/d/summerland-k...   \n",
       "3  7222270760  https://worcester.craigslist.org/cto/d/west-br...   \n",
       "4  7210384030  https://greensboro.craigslist.org/cto/d/trinit...   \n",
       "\n",
       "                   region                         region_url  price  year  \\\n",
       "0                prescott    https://prescott.craigslist.org   6000   NaN   \n",
       "1            fayetteville       https://fayar.craigslist.org  11900   NaN   \n",
       "2            florida keys        https://keys.craigslist.org  21000   NaN   \n",
       "3  worcester / central MA   https://worcester.craigslist.org   1500   NaN   \n",
       "4              greensboro  https://greensboro.craigslist.org   4900   NaN   \n",
       "\n",
       "  manufacturer model condition cylinders  ... size  type paint_color  \\\n",
       "0          NaN   NaN       NaN       NaN  ...  NaN   NaN         NaN   \n",
       "1          NaN   NaN       NaN       NaN  ...  NaN   NaN         NaN   \n",
       "2          NaN   NaN       NaN       NaN  ...  NaN   NaN         NaN   \n",
       "3          NaN   NaN       NaN       NaN  ...  NaN   NaN         NaN   \n",
       "4          NaN   NaN       NaN       NaN  ...  NaN   NaN         NaN   \n",
       "\n",
       "  image_url description county state lat long posting_date  \n",
       "0       NaN         NaN    NaN    az NaN  NaN          NaN  \n",
       "1       NaN         NaN    NaN    ar NaN  NaN          NaN  \n",
       "2       NaN         NaN    NaN    fl NaN  NaN          NaN  \n",
       "3       NaN         NaN    NaN    ma NaN  NaN          NaN  \n",
       "4       NaN         NaN    NaN    nc NaN  NaN          NaN  \n",
       "\n",
       "[5 rows x 26 columns]"
      ]
     },
     "execution_count": 4,
     "metadata": {},
     "output_type": "execute_result"
    }
   ],
   "source": [
    "df.head()"
   ]
  },
  {
   "cell_type": "code",
   "execution_count": 5,
   "metadata": {
    "execution": {
     "iopub.execute_input": "2023-04-13T10:08:11.743974Z",
     "iopub.status.busy": "2023-04-13T10:08:11.743027Z",
     "iopub.status.idle": "2023-04-13T10:08:11.748345Z",
     "shell.execute_reply": "2023-04-13T10:08:11.747647Z",
     "shell.execute_reply.started": "2023-04-13T09:15:44.169438Z"
    },
    "papermill": {
     "duration": 0.058703,
     "end_time": "2023-04-13T10:08:11.748468",
     "exception": false,
     "start_time": "2023-04-13T10:08:11.689765",
     "status": "completed"
    },
    "tags": []
   },
   "outputs": [
    {
     "data": {
      "text/plain": [
       "(426880, 26)"
      ]
     },
     "execution_count": 5,
     "metadata": {},
     "output_type": "execute_result"
    }
   ],
   "source": [
    "df.shape"
   ]
  },
  {
   "cell_type": "code",
   "execution_count": 6,
   "metadata": {
    "execution": {
     "iopub.execute_input": "2023-04-13T10:08:11.849435Z",
     "iopub.status.busy": "2023-04-13T10:08:11.848274Z",
     "iopub.status.idle": "2023-04-13T10:08:12.285254Z",
     "shell.execute_reply": "2023-04-13T10:08:12.284734Z",
     "shell.execute_reply.started": "2023-04-13T09:15:44.178240Z"
    },
    "papermill": {
     "duration": 0.489022,
     "end_time": "2023-04-13T10:08:12.285379",
     "exception": false,
     "start_time": "2023-04-13T10:08:11.796357",
     "status": "completed"
    },
    "tags": []
   },
   "outputs": [
    {
     "name": "stdout",
     "output_type": "stream",
     "text": [
      "<class 'pandas.core.frame.DataFrame'>\n",
      "RangeIndex: 426880 entries, 0 to 426879\n",
      "Data columns (total 26 columns):\n",
      " #   Column        Non-Null Count   Dtype  \n",
      "---  ------        --------------   -----  \n",
      " 0   id            426880 non-null  int64  \n",
      " 1   url           426880 non-null  object \n",
      " 2   region        426880 non-null  object \n",
      " 3   region_url    426880 non-null  object \n",
      " 4   price         426880 non-null  int64  \n",
      " 5   year          425675 non-null  float64\n",
      " 6   manufacturer  409234 non-null  object \n",
      " 7   model         421603 non-null  object \n",
      " 8   condition     252776 non-null  object \n",
      " 9   cylinders     249202 non-null  object \n",
      " 10  fuel          423867 non-null  object \n",
      " 11  odometer      422480 non-null  float64\n",
      " 12  title_status  418638 non-null  object \n",
      " 13  transmission  424324 non-null  object \n",
      " 14  VIN           265838 non-null  object \n",
      " 15  drive         296313 non-null  object \n",
      " 16  size          120519 non-null  object \n",
      " 17  type          334022 non-null  object \n",
      " 18  paint_color   296677 non-null  object \n",
      " 19  image_url     426812 non-null  object \n",
      " 20  description   426810 non-null  object \n",
      " 21  county        0 non-null       float64\n",
      " 22  state         426880 non-null  object \n",
      " 23  lat           420331 non-null  float64\n",
      " 24  long          420331 non-null  float64\n",
      " 25  posting_date  426812 non-null  object \n",
      "dtypes: float64(5), int64(2), object(19)\n",
      "memory usage: 84.7+ MB\n"
     ]
    }
   ],
   "source": [
    "df.info()"
   ]
  },
  {
   "cell_type": "code",
   "execution_count": 7,
   "metadata": {
    "execution": {
     "iopub.execute_input": "2023-04-13T10:08:12.395143Z",
     "iopub.status.busy": "2023-04-13T10:08:12.394404Z",
     "iopub.status.idle": "2023-04-13T10:08:17.797779Z",
     "shell.execute_reply": "2023-04-13T10:08:17.797103Z",
     "shell.execute_reply.started": "2023-04-13T09:15:44.625829Z"
    },
    "papermill": {
     "duration": 5.46493,
     "end_time": "2023-04-13T10:08:17.797933",
     "exception": false,
     "start_time": "2023-04-13T10:08:12.333003",
     "status": "completed"
    },
    "tags": []
   },
   "outputs": [
    {
     "name": "stdout",
     "output_type": "stream",
     "text": [
      "7312775165    1\n",
      "7310416174    1\n",
      "7316392516    1\n",
      "7311147589    1\n",
      "7307281658    1\n",
      "             ..\n",
      "7316642868    1\n",
      "7304055862    1\n",
      "7311393847    1\n",
      "7314270665    1\n",
      "7314872323    1\n",
      "Name: id, Length: 426880, dtype: int64\n",
      "https://southcoast.craigslist.org/ctd/d/hyannis-2013-toyota-highlander-limited/7311276935.html        1\n",
      "https://minneapolis.craigslist.org/dak/ctd/d/jordan-2014-ford-escape-se-159k-miles/7316271467.html    1\n",
      "https://norfolk.craigslist.org/ctd/d/fredericksburg-2010-infiniti-qx56-owner/7307199684.html          1\n",
      "https://bakersfield.craigslist.org/ctd/d/fontana-2014-isuzu-npr-eco-max-rwd/7309487167.html           1\n",
      "https://baltimore.craigslist.org/cto/d/cockeysville-1970-fiat-850-spider/7316344310.html              1\n",
      "                                                                                                     ..\n",
      "https://bham.craigslist.org/ctd/d/saginaw-2005-acura-tl/7302801947.html                               1\n",
      "https://bozeman.craigslist.org/ctd/d/bozeman-2015-ford-f150-super-cab/7315304987.html                 1\n",
      "https://kpr.craigslist.org/cto/d/college-place-only-miles-mercedes-2012/7311054987.html               1\n",
      "https://stockton.craigslist.org/ctd/d/carmichael-2017-bmw-series-530i-low/7312037082.html             1\n",
      "https://delaware.craigslist.org/cto/d/wilmington-must-see-09-mazda-tribute/7316750963.html            1\n",
      "Name: url, Length: 426880, dtype: int64\n",
      "columbus                   3608\n",
      "jacksonville               3562\n",
      "spokane / coeur d'alene    2988\n",
      "eugene                     2985\n",
      "fresno / madera            2983\n",
      "                           ... \n",
      "meridian                     28\n",
      "southwest MS                 14\n",
      "kansas city                  11\n",
      "fort smith, AR                9\n",
      "west virginia (old)           8\n",
      "Name: region, Length: 404, dtype: int64\n",
      "https://spokane.craigslist.org     2988\n",
      "https://eugene.craigslist.org      2985\n",
      "https://orlando.craigslist.org     2983\n",
      "https://fresno.craigslist.org      2983\n",
      "https://bend.craigslist.org        2982\n",
      "                                   ... \n",
      "https://nesd.craigslist.org          34\n",
      "https://bigbend.craigslist.org       30\n",
      "https://meridian.craigslist.org      28\n",
      "https://natchez.craigslist.org       14\n",
      "https://wv.craigslist.org             8\n",
      "Name: region_url, Length: 413, dtype: int64\n",
      "0        32895\n",
      "6995      3169\n",
      "7995      3129\n",
      "9995      2867\n",
      "8995      2837\n",
      "         ...  \n",
      "928          1\n",
      "45750        1\n",
      "23211        1\n",
      "19013        1\n",
      "14964        1\n",
      "Name: price, Length: 15655, dtype: int64\n",
      "2017.0    36420\n",
      "2018.0    36369\n",
      "2015.0    31538\n",
      "2013.0    30794\n",
      "2016.0    30434\n",
      "          ...  \n",
      "1902.0        1\n",
      "1915.0        1\n",
      "1905.0        1\n",
      "1909.0        1\n",
      "1918.0        1\n",
      "Name: year, Length: 114, dtype: int64\n",
      "ford               70985\n",
      "chevrolet          55064\n",
      "toyota             34202\n",
      "honda              21269\n",
      "nissan             19067\n",
      "jeep               19014\n",
      "ram                18342\n",
      "gmc                16785\n",
      "bmw                14699\n",
      "dodge              13707\n",
      "mercedes-benz      11817\n",
      "hyundai            10338\n",
      "subaru              9495\n",
      "volkswagen          9345\n",
      "kia                 8457\n",
      "lexus               8200\n",
      "audi                7573\n",
      "cadillac            6953\n",
      "chrysler            6031\n",
      "acura               5978\n",
      "buick               5501\n",
      "mazda               5427\n",
      "infiniti            4802\n",
      "lincoln             4220\n",
      "volvo               3374\n",
      "mitsubishi          3292\n",
      "mini                2376\n",
      "pontiac             2288\n",
      "rover               2113\n",
      "jaguar              1946\n",
      "porsche             1384\n",
      "mercury             1184\n",
      "saturn              1090\n",
      "alfa-romeo           897\n",
      "tesla                868\n",
      "fiat                 792\n",
      "harley-davidson      153\n",
      "ferrari               95\n",
      "datsun                63\n",
      "aston-martin          24\n",
      "land rover            21\n",
      "morgan                 3\n",
      "Name: manufacturer, dtype: int64\n",
      "f-150                                     8009\n",
      "silverado 1500                            5140\n",
      "1500                                      4211\n",
      "camry                                     3135\n",
      "silverado                                 3023\n",
      "                                          ... \n",
      "Silverado 1500                               1\n",
      "IS                                           1\n",
      "tsx tech pkg automatic                       1\n",
      "potiac firehawk                              1\n",
      "f-250 super duty xl xl 2dr regular cab       1\n",
      "Name: model, Length: 29667, dtype: int64\n",
      "good         121456\n",
      "excellent    101467\n",
      "like new      21178\n",
      "fair           6769\n",
      "new            1305\n",
      "salvage         601\n",
      "Name: condition, dtype: int64\n",
      "6 cylinders     94169\n",
      "4 cylinders     77642\n",
      "8 cylinders     72062\n",
      "5 cylinders      1712\n",
      "10 cylinders     1455\n",
      "other            1298\n",
      "3 cylinders       655\n",
      "12 cylinders      209\n",
      "Name: cylinders, dtype: int64\n",
      "gas         356209\n",
      "other        30728\n",
      "diesel       30062\n",
      "hybrid        5170\n",
      "electric      1698\n",
      "Name: fuel, dtype: int64\n",
      "100000.0    2263\n",
      "1.0         2246\n",
      "0.0         1965\n",
      "200000.0    1728\n",
      "150000.0    1603\n",
      "            ... \n",
      "60670.0        1\n",
      "91907.0        1\n",
      "91905.0        1\n",
      "183807.0       1\n",
      "5276.0         1\n",
      "Name: odometer, Length: 104870, dtype: int64\n",
      "clean         405117\n",
      "rebuilt         7219\n",
      "salvage         3868\n",
      "lien            1422\n",
      "missing          814\n",
      "parts only       198\n",
      "Name: title_status, dtype: int64\n",
      "automatic    336524\n",
      "other         62682\n",
      "manual        25118\n",
      "Name: transmission, dtype: int64\n",
      "1FMJU1JT1HEA52352    261\n",
      "3C6JR6DT3KG560649    235\n",
      "1FTER1EH1LLA36301    231\n",
      "5TFTX4CN3EX042751    227\n",
      "1GCHTCE37G1186784    214\n",
      "                    ... \n",
      "2GNAXUEV7K6150037      1\n",
      "1C4BJWEG5DL655970      1\n",
      "2T1LE40E79C005331      1\n",
      "5LMJJ2J54BEJ05999      1\n",
      "1J8HR58268C194645      1\n",
      "Name: VIN, Length: 118264, dtype: int64\n",
      "4wd    131904\n",
      "fwd    105517\n",
      "rwd     58892\n",
      "Name: drive, dtype: int64\n",
      "full-size      63465\n",
      "mid-size       34476\n",
      "compact        19384\n",
      "sub-compact     3194\n",
      "Name: size, dtype: int64\n",
      "sedan          87056\n",
      "SUV            77284\n",
      "pickup         43510\n",
      "truck          35279\n",
      "other          22110\n",
      "coupe          19204\n",
      "hatchback      16598\n",
      "wagon          10751\n",
      "van             8548\n",
      "convertible     7731\n",
      "mini-van        4825\n",
      "offroad          609\n",
      "bus              517\n",
      "Name: type, dtype: int64\n",
      "white     79285\n",
      "black     62861\n",
      "silver    42970\n",
      "blue      31223\n",
      "red       30473\n",
      "grey      24416\n",
      "green      7343\n",
      "custom     6700\n",
      "brown      6593\n",
      "yellow     2142\n",
      "orange     1984\n",
      "purple      687\n",
      "Name: paint_color, dtype: int64\n",
      "https://images.craigslist.org/00N0N_1xMPvfxRAIdz_0gw0co_600x450.jpg    7357\n",
      "https://images.craigslist.org/00R0R_lwWjXSEWNa7z_0x20oM_600x450.jpg    2192\n",
      "https://images.craigslist.org/01111_l590CdXzJSoz_001001_600x450.jpg     276\n",
      "https://images.craigslist.org/01313_9Zne268YnWZz_0gw0co_600x450.jpg     231\n",
      "https://images.craigslist.org/00X0X_1cMDo5xqSuAz_0gw0co_600x450.jpg     227\n",
      "                                                                       ... \n",
      "https://images.craigslist.org/00505_e4tx72PkdiBz_0ak07K_600x450.jpg       1\n",
      "https://images.craigslist.org/00r0r_k7TSGixOb2kz_0CI0t2_600x450.jpg       1\n",
      "https://images.craigslist.org/00t0t_4oHrx6iJqFPz_1320MM_600x450.jpg       1\n",
      "https://images.craigslist.org/00F0F_f74RF0XoLHWz_0ak07K_600x450.jpg       1\n",
      "https://images.craigslist.org/01616_cDPUiXZR1Mxz_09Q07e_600x450.jpg       1\n",
      "Name: image_url, Length: 241899, dtype: int64\n",
      "35 VEHICLES PRICED UNDER $3000!!!  BIG TIME! TAX TIME! SALE TIME!  CALL US NOW!!! 321-242-0328  30TH YEAR IN BUSINESS!!!!  OUR ADDRESS:  1900 AURORA RD. MELBOURNE, FL 32935  321-242-0328  Call us or visit us now we have a huge selection of honda accord and civic and pilot in stock at all times! we specialize in Toyota Camry and Corolla and Sienna and 3RD Row Suv. We also stock Domestics like Ford Fusion Explorer and Escape and the really nice Edge. if you care looking for Chevy Traverse or Chevrolet Malibu or Impala and Cruze for gas saving we have those as well, including Buick Enclave we always have em! Lacrosse and Regal are here too! Encore is available just call first. We stock Luxury Brands like Acura Lexus and German brands BMW Mercedes Benz and Audi. Dont get us started on Jeep! We love to sell Grand Cherokee and Patriot and Compass! Want a Really Nice Minivan!?! We got Chrysler Town and Country Dodge Grand Caravan and Honda Odyssey Always Here!! Sporty? Charger Challanger Mustang and Camro can be located for you! Are you Hip? Kia Soul and Optima are your bag, we got em!!!! Mazda is here too!! 3 and 6 and CX9. Our Number one seller for 3RD Row is the Dodge Journey and Durango, we always have a bunch in stock, back up camera and push button start bluetooth panoramic sunroof. Cadillac SRX for the luxury driver is here too! Ever driven a Nissan Altima or Sentra or Pathfinder or Rogue, come drive one today and feel the sporty drive!                                                                                                                                                                                                                                                                                                                                                                                                                                                                                                                                                                                                                                                                                                                                                                                                                                                                                                                                                                                                                                                                                                                                                                                                                                                                                                                                                                                                                                                                                                                                                                                                                                                                                                                                                                                                                                                                                                                                                                                                                                                                                                                                                                                                                                                                                                                                                                                                                                                                                                                                                                                                                                                                                                                                                                                                                                                                                                                                                                                                                                                                                                                                                                                                                                                                                                                                                                                                                                                                                                                                                                                                                                                                                                                                                                                                                                                                                                                                                                                                                                                                                                                                                                                                                                                                                                                                                                                                                                                                                                                                                                                                                                                                                                                                                                                                                                                                                                                                                                                                                                                                                                                                                                                                                                                                                                                                                                                                                                                                                                                                                                                                                                                                                                                                                                                                                                                                                                                                                                                                                                                                                                                                                                                                                                                                                                                                                                                                                                                                                                                                                                                                                                                                                                                                                                                                                                                                                                                                                                                                                                                                                                                                                                                                                                                                                                                                                                                                                                                                                                                                                                                                                                                                                                                                                                                                                                                                                                                                                                                                                                                                                                                                                                                                                                                                                                                                                                                                                                                                                                                                                                                                            231\n",
      "Call or text today to find out more. (602) 620-6525 Calls only landline (406) 245-1785  Available at Standard Auto Sales 1503 Broadwater Ave. Billings, MT 59102 standardautosales.net   Need help with financing? We have options for most credit situations. We never charge a doc fee! Extended service contracts available. We buy cars and take consignments! Call or text Mike today to find out more. (602) 620-6525  Welcome to Standard Auto Sales, located in Billings, MT, where quality service and customer satisfaction come first. We are here to help you find a vehicle that fits your lifestyle from our wide selection of used cars, trucks, and SUVs. We pride ourselves on a hassle-free car buying experience where your needs come first. Swing by to let us exceed your expectations while finding the perfect vehicle! Do you need financing for your next used vehicle purchase? Do you have a good credit, bad credit or no credit history situation? We work with a variety of financial institutions and we will work hard to get you approved quickly and easily, at the best rate possible! Apply now or call us at (406) 245-1785 or text (602) 620-6525 to schedule a test drive today!                                                                                                                                                                                                                                                                                                                                                                                                                                                                                                                                                                                                                                                                                                                                                                                                                                                                                                                                                                                                                                                                                                                                                                                                                                                                                                                                                                                                                                                                                                                                                                                                                                                                                                                                                                                                                                                                                                                                                                                                                                                                                                                                                                                                                                                                                                                                                                                                                                                                                                                                                                                                                                                                                                                                                                                                                                                                                                                                                                                                                                                                                                                                                                                                                                                                                                                                                                                                                                                                                                                                                                                                                                                                                                                                                                                                                                                                                                                                                                                                                                                                                                                                                                                                                                                                                                                                                                                                                                                                                                                                                                                                                                                                                                                                                                                                                                                                                                                                                                                                                                                                                                                                                                                                                                                                                                                                                                                                                                                                                                                                                                                                                                                                                                                                                                                                                                                                                                                                                                                                                                                                                                                                                                                                                                                                                                                                                                                                                                                                                                                                                                                                                                                                                                                                                                                                                                                                                                                                                                                                                                                                                                                                                                                                                                                                                                                                                                                                                                                                                                                                                                                                                                                                                                                                                                                                                                                                                                                                                                                                                                                                                                                                                                                                                                                                                                                                                                                                                                                                                                                                                                                                                                                                                                                                                                                                                                                                                                        197\n",
      "This truck has sold, but we buy trucks like this. If you know of one of these trucks for sale, we pay a finders fee.  Call Bobby! (636) 587 - 0660    7.3 7.3l 6.6 6.6l 5.9 5.9 6.7 6.7l powerstroke power stroke duramax cummins diesel lly lbz dmax pstroke big block small block big block smallblock sbf sbc bbf bbc efi 302 460 351 6.0 6.0L 5.0L 5.0 5.8L 5.8 7.5L 7.5 496 454 stroker 8.1 8.1L 12v 24v 4x4 four wheel drive 4wd laramie SLT Lariat lt lt1 lt2 lt3 ls club quad single crew cab clubcab quadcab singlecab crewcab cclb long bed longbed short shortbed  ccsb sclb scsb rustfree rust free clean 4door 2-door 2door 4-door ford dodge chevrolet chevy gmc sierra silverado f-250 f-350 f250 f350 ram 2500 3500 1st gen first gen firstgen 2nd gen 2ndgen second gen secondgen 3rd gen 3rdgen third gen thirdgen OBS superduty excursion supercrew supercab super duty 5-speed 6-speed stick shift stickshift manual transmission clutch intercooled inter cooled turbocharged turbo charged lonestar bighorn lone star big horn longhorn long horn low mile lowmile puller camper camp haul hauling hauler tow towing rig gooseneck goose neck 5th wheel fifth wheel 5thwheel fifthwheel hitch                                                                                                                                                                                                                                                                                                                                                                                                                                                                                                                                                                                                                                                                                                                                                                                                                                                                                                                                                                                                                                                                                                                                                                                                                                                                                                                                                                                                                                                                                                                                                                                                                                                                                                                                                                                                                                                                                                                                                                                                                                                                                                                                                                                                                                                                                                                                                                                                                                                                                                                                                                                                                                                                                                                                                                                                                                                                                                                                                                                                                                                                                                                                                                                                                                                                                                                                                                                                                                                                                                                                                                                                                                                                                                                                                                                                                                                                                                                                                                                                                                                                                                                                                                                                                                                                                                                                                                                                                                                                                                                                                                                                                                                                                                                                                                                                                                                                                                                                                                                                                                                                                                                                                                                                                                                                                                                                                                                                                                                                                                                                                                                                                                                                                                                                                                                                                                                                                                                                                                                                                                                                                                                                                                                                                                                                                                                                                                                                                                                                                                                                                                                                                                                                                                                                                                                                                                                                                                                                                                                                                                                                                                                                                                                                                                                                                                                                                                                                                                                                                                                                                                                                                                                                                                                                                                                                                                                                                                                                                                                                                                                                                                                                                                                                                                                                                                                                                                                                                                                                                                                                                                                                                                                                                                                                                                                                                                                                                                             154\n",
      "CREDIT CARS- $700.00 DOWN- RIGHT ON THE CORNER, RIGHT ON THE CREDIT!!  CALL US TODAY @ 352-204-2923 OR 352-204-2137. $700 DOWN!!!!!  CREDIT CHALLENGES??- NO PROBLEM- COME SEE US TODAY!  WE USE YOUR JOB AS YOUR CREDIT! ALL YOU NEED IS INCOME, PROOF OF INSURANCE, DRIVERS LICENSE, AND $700.00!!!  COME SEE US TODAY AT 320 NE 23RD AVENUE GAINESVILLE, FL 32609  WE ARE OPEN MONDAY- FRIDAY 9:00AM TO 7:00PM AND SATURDAY 9:00AM- 5:00PM  352-204-2137 OR 352-204-2137 CALL US TODAY TO SCHEDULE APPT!!  ⭐ Great Financing Options Available ⭐  ✅ Bad Credit? ✅ No Credit? ✅ First Time Buyer? ✅ We Work With Dozens Of Dealers To Get You Approved Fast Regardless Of Your Credit Situation.  🚘 Ready To Get Behind The Wheel Of Your New Car 🚘  100% APPROVAL! We use your job as your credit!  We Guarantee It! No matter your financial situation, you will drive off the lot in a new car, today.  ✅ Bad Credit ✅ No Credit ✅ Repossession ✅ Foreclosure ✅ SSI ✅ Disability ✅ Government Assistance  YOU'RE APPROVED!  🚘 🚘  ✅ Huge Selection Of Quality Pre-Owned Cars ✅ Leave With Confidence ✅ Trade-In Your Car Today For A Great Discount   📍 Stop By Today                                                                                                                                                                                                                                                                                                                                                                                                                                                                                                                                                                                                                                                                                                                                                                                                                                                                                                                                                                                                                                                                                                                                                                                                                                                                                                                                                                                                                                                                                                                                                                                                                                                                                                                                                                                                                                                                                                                                                                                                                                                                                                                                                                                                                                                                                                                                                                                                                                                                                                                                                                                                                                                                                                                                                                                                                                                                                                                                                                                                                                                                                                                                                                                                                                                                                                                                                                                                                                                                                                                                                                                                                                                                                                                                                                                                                                                                                                                                                                                                                                                                                                                                                                                                                                                                                                                                                                                                                                                                                                                                                                                                                                                                                                                                                                                                                                                                                                                                                                                                                                                                                                                                                                                                                                                                                                                                                                                                                                                                                                                                                                                                                                                                                                                                                                                                                                                                                                                                                                                                                                                                                                                                                                                                                                                                                                                                                                                                                                                                                                                                                                                                                                                                                                                                                                                                                                                                                                                                                                                                                                                                                                                                                                                                                                                                                                                                                                                                                                                                                                                                                                                                                                                                                                                                                                                                                                                                                                                                                                                                                                                                                                                                                                                                                                                                                                                                                                                                                                                                                                                                                                                                                                                                                                                                                                                                                                                                                                                                                       148\n",
      "HEC LEASING, LLC Call Gary, Russ or Clay at 888-366-1571  Down payment includes Factory Warranty with each truck!  AVAILABLE TRUCKS    2018 FREIGHTLINER CASCADIA 72\" CONDOS Detroit DD13 450HP @ 1800RPM with Engine Brake Eaton Fuller FOM-15E310C-LAS Ultrashift Plus Automatic Transmission  \\tDetroit DA-RT-4.0.0-4 HT 40,000 lb. R-Series Tandem Rear Axel \\t3.42 RatioAirliner Plus 40,000-lb. Load Transfer Rear Suspension w/Dump Valve \\tFontaine 6ATB Air Slide 5th Wheel w/Dash Mounted Control Valve \\t22.5 Low Profile Tires w/Polished Outer Aluminum Wheels \\t228\" Wheelbase \\tDual 100 Gallon Aluminum Fuel Tanks \\tPremium High Back Air Seats \\tPower Windows & Mirrors \\tAdjustable Tilt and Telescoping Steering Column \\tDelphi AM/FM/WB/Sirius Radio w/CD & Bluetooth \\tParkSmart HVAC System w/Espar Aux Heater in Sleeper \\t40\" Lower Bunk w/Foldable Upper Bunk   HEC LEASING, LLC Call Gary, Russ or Clay at 888-366-1571  2018 KENWORTH T680 76” CONDO Balance of Manufactures Warranty Engine Make PACCAR Engine Model MX-13 Engine HP 455 Engine Brake YES Transmission Make Eaton-Fuller Transmission Model FAOM -16810S-EP3 Transmission Speed 10 Speed Auto Paccar 40,000 lb. Rear Axle Ratio 2.64 Kenworth Air Glide 40,000  \\tRear Suspension w/ Dump Value \\tFontaine Air Slide Fifth Wheelires w/ Polished Outer Aluminum Wheels \\tDual 100 Gallon Aluminum Fuel Tanks \\tPower Windows and Mirrors \\tPremium High Back Air Seats \\tKW Idle HVAC System w/Espar \\tAux Heater in Sleeper \\tKW Radio W/AM/WB/CB/USB w/ Bluetooth \\t76” Condo Double Bunk Sleeper   HEC LEASING, LLC Call Gary, Russ or Clay at 888-366-1571  2016 PETERBILT 579 80 INCH DOUBLE BUNKS 2 Year / 250,000 Mile Peterbilt Factory Engine Warranty Engine Make PACCAR Engine Model MX-13 Engine HP 455 Engine Brake YES Transmission Make Eaton-Fuller Transmission Model FAOM -15810S-EP3 Transmission Speed Auto Sleeper 80 Inch Suspension Peterbilt Low Air Leaf Front Axle Cap 12300 Rear Axle Cap 40000 Rear End 2.64 Wheelbase 228 Front Wheels Aluminum Rear Wheels Aluminum Tire Size Low Pro 22.5 A/C Yes Powersteering Yes Cab Configuration  Conventional Color Red Interior Premier Frame  Steel Fifth Wheel Air Slide Rear Axles 2 Tank 1 100 Tank 2 100 Engine Serial Y072947 RPM 1700 Identification Vinyl Stickers  HEC LEASING, LLC Call Gary, Russ or Clay at 888-366-1571  AUTOMATIC TRANSMISSIONS!!!  We make financing decisions IN HOUSE! Low weekly rates! We make equipment acquisition easy & affordable. We offer flexible financing, and it is our mission to provide you with a transportation solution that meets your hauling needs and fits within your budget. Our lease-to-own arrangements are designed to making acquiring a truck as painless as possible. We are a small, family-oriented company that provides the personalized service you need to ensure you are acquiring the right truck under the right terms. Leasing is a great way to get your small business off the ground or quickly add capacity to your current operations.  To learn more about our truck leasing and financing services, contact us today.  To learn more about our truck leasing and financing services, contact us today  call one of our Salesman – Gary Carrigan, Russ Carrigan or Clay Britt at 888-366-1571!                                                       *DUMP TRUCK* *dump trucks* *dump* *volteo* dump truck, volteo, Freightliner International Ford Peterbilt Kenworth Mack trucks, tandem axle tri quad 5 , trucks for sale, Dumps, Tipper earth moving dumper, dumper truck business, financing, financing with bad credit, warren ox body dumps, local sale near me, Spanish dump, Volteo, mack volquete, volteo en venta, camion para movimiento de tierra, volquetes camiones tierraen mover volteos, VOLTEO, a la volteos volquetas, remolque, remolques, basculante, escombors Categories of sleeper semi 18 wheeler heavy duty Cab & Chassis Trucks, Conventional Trucks Sleeper, without Crane Dump Flatbed Garbage Glider Kit Tank Asphalt tank Gasoline Fuel Septic Vacuum Water Roll-Offs, Roll-Off Truck, Roll off Off Pumper SPANISH con dormitorio, camiones, carretera, camabajas, agua, petroleo, uso, florida, miami, exportacion importacion, importacion exportacion, usa, Camiones volvo mack, volvo, dealer camioneros, venta tracto tractomulas, mulas, bolteos, bolteo, se vende Septicos septico, septicos, tanques septico For Sleeper pump vacuum bomba, succion, septic Roll-Offs Truck Models, 108SD, 114SD, 122SD, ARGOSY, BUSINESS CLASS M2 106, 106V, 112, CASCADIA 113, 125, COLUMBIA 120, CORONADO 114, 122, 122 SD, FL60, FL70, FL80, FL106, FL112, FLC112, FLC120, FLD112, FLD120, FLD120 CLASSIC, FLD132 CLASSIC XL, 900, 1854, 1910, 1954, 1955, 2254, 2350G, 2500, 2524, 2554, 2574, 2574S, 2575, 2674, 2674SF, 4200, 4300, 4300 EAGLE, SBA, 4400, 4400 4600, 4700, 4800, 4900, 4900DT, 4954, 5000, 5500i, 5600, 5600i, 5900, 5900i, 5900i 7300, 7400, 7400 SFA, 7500, 7500 7600, 7600 7700, 8100, 8200, 8300, 8500, 8600, 8600 9000, 9100, 9200, 9200i, 9200i 9300, 9300 9370, 9400, 9400 9400i, 9900 9900i, ACCO 1850D, DURASTAR F1954, F2070A, F2375, F2554, F2574, F2575, F2674, F4370, F5070, F9370, FLEETSTAR 2000, G2604, HX515, HX520, HX615, HX620, LOADSTAR 1600, PAYSTAR 5500, PROSTAR, PROSTAR+, S1600, S1754, S1900, S1954, S2500, S2574, S2600, TRANSTAR, TRANSTAR WORKSTAR C500, C510, C550, K123, T270, T300, T330, T359, T370, T404, T440, T470, T600, T600A, T660, T800, T800B, T800W, T880, W900, W900A, W900B, W900L, W900S, W923, 300, 330, 335, 337, 340, 348, 357, 357SB, 358, 359, 359A, 359EXHD, 359S, 365, 367, 375, 377, 378, 378SB, 379, 379EXHD, 382, 384, 385, 386, 388, 389, 567, 579, 587, Volvo ACL64, ACL64B, ACL64BT, F12, FH500, FL626, FM7, FM9, FM12, FM380, FM440, FM480, FMX460, N1225, NH12, VHD42B200, VHD62B200, VHD62F200, VHD64B200, VHD64BT430, VHD64F200, VHD64FT200, VHD84B200, VHD84F200, VHD86B200, VHD104B200, VHD124F200, VNL64300, VNL64T300, VNL64T430, VNM42T200, VNM64T200, WCA64, WG42, WG64, WG64F, WG64T, WG64B, WIA64, WIA64T, WX42, Western Star 490, 3864S, 4700SB, 4700SF, 4764T, 4800FX, 4842, 4864F, 4900EX, 4900FA, 4900FX, 4900SA, 4900SB, 4900SF, 4964, 4964EX, 4964F, 4964FX, 4964SA, 5964S, 6900XD, 600, B60LS, B75, CH600, CH612, CH613, CH688R, CHN613, CL613, CL700, CL713, CL733, CL753, DM60, DM237, DM600, DM600GK, DM607S, DM685, DM685S, DM685SX, DM686, DM686S, DM686SX, DM688, DM688S, DM688SX, DM690, DM690S, DM800, DM809SX, DMM685, GRANITE, GRANITE CT713, CTP713, CTP713B, CU713, CV513, CV533, CV703, CV712, CV713, GU432, GU433, GU533, GU703, GU712, GU713, GU813, GU813E, METRO LINER, MIDLINER, MIDLINER CS200, CS200P, CS250P, CS300P, MS300, MRU613, PINNACLE, PINNACLE CHU613, CXP612, CXP613, CXU612, CXU613, R68ST, R487P, R600, R609, R685, R685ST, R685T, R686, R686LST, R686ST, R686SX R686T, R688, R688LST, R688S, R688ST, R690, R690S, R719S, R747ST, RB600, RB688, RB688S, RB688SX RB690S, RB690SX,Mack RD600, RD600GK RD668ST, RD685, RD685S, RD685ST, RD686, RD686 RD686LS, RD686S, RD686SX, RD688, RD688D, RD688P, RD688S RD688ST, RD688SX RD690, RD690P,Mack RD690S, RD690ST, RD822SX, RD854, RD890SX, RD960S, RM6864X, RS686, SUPERLINER, SUPERLINER RW613, RW633, RW713, RWS786LST, TRIDENT, VISION, VISION CX612, CX613, CXN612 CXN613, Used used Volteo usado, volquete usados, tierra Freightliner, International, Peterbilt, Kenworth, Mack, Sterling, Star, Freightliners, Internationals, Peterbilts, Kenworths, Sterlings, Stars, Sterling Mixer Concrete Sewer Rodder Tow Roll-Back pumper grapple bomba succion tipper freightliners macks Peterbilts kenworths internationals sewer cleaning, liquid waste disposal, tanks, tanker septic, FINANCING tractor trailer buy here pay here, in house trucker day cab terrible credit no check zero Financiamiento financiamiento sin documentos, visa, ilegales, venezolanos documentos Porta potty, hydroexcavation equipment, waste, pumper, water recycling, jetters, rodder, rodding guzzler, jet/vac, loader, wet/dry tank, industrial, services, plumbing industrial portable sanitation disposal grease 1500 gallon 2000 2500 2600 2650 3400 4000 5000 steel magazine, craigslist, com, magazine classifieds, vac by owner, Keywords:lifted rough country treadwright ford, f150 f 150 f-150 f250 250 f-250 f350 350 f-350 f450 450 f-450 f550 550 f-550, f650 F eseries e-series e series cargo van extended SB SMALL BED LB LONG XL XLT Super Duty Lariat King Ranch Sierra Denali,escalade Silverado expedition excursion tahoe Yukon LT SLT 2500HD 1500HD 3500 3500HD Power Stroke 5.7 6.0 6.4 6.7 7.3 Hemi Turbo Diesel, Diesel duramax lifted offroad, freedomway, freedomway trailers flatbed flat bed stepdeck step deck dropdeck drop ,trucks lowboy big rig kenworth kw t660 t680 t700 t600 t800 t880 t2000 w900 w990 w900l ,t660 t300, international prostar lonestar 9200 9900i ,vnl630 ,vnl660 vnl670 vnl780 vnl730 freightliner fld112 fld120 fld132 fld132xl cl120 flc120 columbia, century, coronado cascadia evolution classic classicxl condo peterbilt 379 378 387 377 386 388 389 348 cx613 ch613 vision midroof flattop utility ,Freightliner, Owner, Operator, Over the Road, Trucking, Drivers, Semi, Day Cab, Cascadia, Pete, KW, Peterbuilt, Classic Semi Tractors, 579 578 Cummins, Detroit, Detroit CAT, C15, C13 C12 Caterpillar, Cabs, Day-cab, Raised Roof, Midroof, Box Tandem axle, Semi-tractor, Drive Tandem, VNL670, VNL780, VNL630, VNL730, VNL430, Century, Columbia, Coronado 12.7 Cummins n14 d12 d13, isx, t2000, t600, t660, t680, t700,t800, Cascadia classic, Coronado,freightliner fld, m2, isx cummins ism swap 4x4 diesel dd15 detroit litter 60, dd13, manual transmission, auto, automatic, dt12, ishift, i-shift integrated powertrain, DT12 pete ken worth w900, M2, DD15, UD 2600, T680 Volvo, liftgate lift gate, d13 reefer dry car hauler, box transmission auto automatic dt12 ishift powertrain    133\n",
      "                                                                                                                                                                                                                                                                                                                                                                                                                                                                                                                                                                                                                                                                                                                                                                                                                                                                                                                                                                                                                                                                                                                                                                                                                                                                                                                                                                                                                                                                                                                                                                                                                                                                                                                                                                                                                                                                                                                                                                                                                                                                                                                                                                                                                                                                                                                                                                                                                                                                                                                                                                                                                                                                                                                                                                                                                                                                                                                                                                                                                                                                                                                                                                                                                                                                                                                                                                                                                                                                                                                                                                                                                                                                                                                                                                                                                                                                                                                                                                                                                                                                                                                                                                                                                                                                                                                                                                                                                                                                                                                                                                                                                                                                                                                                                                                                                                                                                                                                                                                                                                                                                                                                                                                                                                                                                                                                                                                                                                                                                                                                                                                                                                                                                                                                                                                                                                                                                                                                                                                                                                                                                                                                                                                                                                                                                                                                                                                                                                                                                                                                                                                                                                                                                                                                                                                                                                                                                                                                                                                                                                                                                                                                                                                                                                                                                                                                                                                                                                                                                                                                                                                                                                                                                                                                                                                                                                                                                                                                                                                                                                                                                                                                                                                                                                                                                                                                                                                                                                                                                                                                                                                                                                                                                                                                                                                                                                                                                                                                                                                                                                                                                                                                                                                                                                                                                                                                                                                                                                                                                                                                                                                                                                                                                                                                                                                                                                                                                                                                                                                                                                                                                                                               ... \n",
      "2003 NISSAN 350Z 3.5   AUTO RUNS AN DRIVES GREAT 2/22 INSP 19'' WHEELS TIRES DUAL EXHAUST SOUNDS GREAT  TRADE INS ACCEPTED CALL 717 287-3130 YOURNEXTAUTO WE DO NOT DO IN HOUSE FINANCING                                                                                                                                                                                                                                                                                                                                                                                                                                                                                                                                                                                                                                                                                                                                                                                                                                                                                                                                                                                                                                                                                                                                                                                                                                                                                                                                                                                                                                                                                                                                                                                                                                                                                                                                                                                                                                                                                                                                                                                                                                                                                                                                                                                                                                                                                                                                                                                                                                                                                                                                                                                                                                                                                                                                                                                                                                                                                                                                                                                                                                                                                                                                                                                                                                                                                                                                                                                                                                                                                                                                                                                                                                                                                                                                                                                                                                                                                                                                                                                                                                                                                                                                                                                                                                                                                                                                                                                                                                                                                                                                                                                                                                                                                                                                                                                                                                                                                                                                                                                                                                                                                                                                                                                                                                                                                                                                                                                                                                                                                                                                                                                                                                                                                                                                                                                                                                                                                                                                                                                                                                                                                                                                                                                                                                                                                                                                                                                                                                                                                                                                                                                                                                                                                                                                                                                                                                                                                                                                                                                                                                                                                                                                                                                                                                                                                                                                                                                                                                                                                                                                                                                                                                                                                                                                                                                                                                                                                                                                                                                                                                                                                                                                                                                                                                                                                                                                                                                                                                                                                                                                                                                                                                                                                                                                                                                                                                                                                                                                                                                                                                                                                                                                                                                                                                                                                                                                                                                                                                                                                                                                                                                                                                                                                                                                                                                                                                                                                                                                         1\n",
      "Carvana is the safer way to buy a car During these uncertain times, Carvana is dedicated to ensuring safety for all of our customers. In addition to our 100% online shopping and selling experience that allows all customers to buy and trade their cars without ever leaving the safety of their house, we’re providing touchless delivery that make all aspects of our process even safer. Now, you can get the car you want, and trade in your old one, while avoiding person-to-person contact with our friendly advocates. There are some things that can’t be put off. And if buying a car is one of them, know that we’re doing everything we can to keep you keep moving while continuing to put your health safety, and happiness first. Vehicle Stock# 2000866228📱 Want to instantly check this car’s availability? Call us at  860-337-6863Just text that stock number to 855-976-4304 or head to http://www.carvanaauto.com/6784955-74656 and plug it into the search bar!Get PRE-QUALIFIED for your auto loan in 2 minutes - no hit to your credit:http://finance.carvanaauto.com/6784955-74656Looking for more cars like this one? We have 22 Nissan Frontier King Cab in stock for as low as $16990!Why buy with Carvana? We have one standard: the highest. Take a look at just some of the qualifications all of our cars must meet before we list them.150-POINT INSPECTION: We put each vehicle through a 150-point inspection so that you can be 100% confident in its quality and safety. See everything that goes into our inspections at:http://www.carvanaauto.com/6784955-74656NO REPORTED ACCIDENTS: We do not sell cars that have been in a reported accident or have a frame or structural damage.7 DAY TEST OWN MONEY BACK GUARANTEE: Every Carvana car comes with a 7-day money-back guarantee. Why? It takes more than 15-minutes to make a decision on your next car. Learn more about test owning at http://about.carvanaauto.comFLEXIBLE FINANCING, TRADE INS WELCOME: We’re all about real-time financing without the middle man. Need financing? Pick a combination of down and monthly payments that work for you. Have a trade-in? We’ll give you a value in 2 minutes. Check out everything about our financing at:http://finance.carvanaauto.com/6784955-74656COST SAVINGS: Carvana's business model has fewer expenses and no bloated fees compared to your local dealership. See how much we can save you at http://about.carvanaauto.comPREMIUM DETAIL: We go the extra mile so that your car is looking as good as new. There are a lot of specifics that we won’t list here (we wash, clean, buff, paint, polish, wax, seal), but trust us that when your car arrives, it’s going to look sweet.Vehicle Info for Stock# 2000866228Trim: SV Pickup 2D 6 ft pickupMileage: 4k milesExterior Color: SilverInterior Color: GRAYEngine: Drive: fwdTransmission: Automatic, 5-SpdVIN: 1N6BD0CT3KN755696Dealer Disclosure: Price excludes tax, title, and registration (which we handle for you).Disclaimer: You agree that by providing your phone number, Carvana, or Carvana’s authorized representatives*, may call and/or send text messages (including by using equipment to automatically dial telephone numbers) about your interest in a purchase, for marketing/sales purposes, or for any other servicing or informational purpose related to your account. You do not have to consent to receiving calls or texts to purchase from Carvana. While every reasonable effort is made to ensure the accuracy of the information for this Nissan Frontier King Cab, we are not responsible for any errors or omissions contained in this ad. Please verify any information in question with Carvana at 860-337-6863*Including, but not limited to, Bridgecrest Credit Company, GO Financial and SilverRock Automotive.*Nissan* *Frontier* *King* *Cab* *regular* *cab* *Nissan* *Frontier* *King* *Cab* *Single* *cab* *Nissan* *Frontier* *King* *Cab* *King* *Cab* *SE* *Nissan* *Frontier* *King* *Cab* *King* *Cap* *XE* *Nissan* *Frontier* *King* *Cab* *Crew* *Cab* *S* *Nissan* *Frontier* *King* *Cab* *XE* *Crew* *Cab* *Nissan* *Frontier* *King* *Cab* *SE* *Crew* *Cab* *Nissan* *Frontier* *King* *Cab* *LE* *Crew* *cab* *Nissan* *Frontier* *King* *Cab* *SV* *Crew* *Cab* *Nissan* *Frontier* *King* *Cab* *Crew* *Cab* *Desert* *Runner* *Nissan* *Frontier* *King* *Cab* *Crew* *Cab* *SL* *Nissan* *Frontier* *King* *Cab* *King* *cab* *S* *Nissan* *Frontier* *King* *Cab* *king* *cab* *SV* *V6* *Nissan* *Frontier* *King* *Cab* *SV* *4-Cylinder* *Pick* *Up* 2022  2021  2020  2019  2018  2017  2016  2015  2014  2013  2012  2011  2010  2009  2008  2007  2006  2005  2004  2003  2002  2001  2000   22  21    19  18  17  16  15  14  13  12  11  10  09  08  07  06  05  04  03  02  01  00                                                                                                                                                                                                                                                                                                                                                                                                                                                                                                                                                                                                                                                                                                                                                                                                                                                                                                                                                                                                                                                                                                                                                                                                                                                                                                                                                                                                                                                                                                                                                                                                                                                                                                                                                                                                                                                                                                                                                                                                                                                                                                                                                                                                                                                                                                                                                                                                                                                                                                                                                                                                                                                                                                                                                                                                                                                                                                                                                                                                                                                                                                                                                                                                                                                                                                                                                                                                                                                                                                                                                                                                                                                                                                                                                                                                                                                                                                                                                                                                                                                                                                                                                                                                                                                                                                                                                                                                                                                                                                                                                                                                                                                                                                                                                                                                                                                                                                                                                                                                                                                                                                                                                                                                                                                         1\n",
      "Carvana is the safer way to buy a car During these uncertain times, Carvana is dedicated to ensuring safety for all of our customers. In addition to our 100% online shopping and selling experience that allows all customers to buy and trade their cars without ever leaving the safety of their house, we’re providing touchless delivery that make all aspects of our process even safer. Now, you can get the car you want, and trade in your old one, while avoiding person-to-person contact with our friendly advocates. There are some things that can’t be put off. And if buying a car is one of them, know that we’re doing everything we can to keep you keep moving while continuing to put your health safety, and happiness first. Vehicle Stock# 2000998960📱 Want to instantly check this car’s availability? Call us at  617-362-3171Just text that stock number to 855-976-4304 or head to http://www.carvanaauto.com/7163530-74513 and plug it into the search bar!Get PRE-QUALIFIED for your auto loan in 2 minutes - no hit to your credit:http://finance.carvanaauto.com/7163530-74513Looking for more cars like this one? We have 146 Ram 1500 Crew Cab in stock for as low as $18990!Why buy with Carvana? We have one standard: the highest. Take a look at just some of the qualifications all of our cars must meet before we list them.150-POINT INSPECTION: We put each vehicle through a 150-point inspection so that you can be 100% confident in its quality and safety. See everything that goes into our inspections at:http://www.carvanaauto.com/7163530-74513NO REPORTED ACCIDENTS: We do not sell cars that have been in a reported accident or have a frame or structural damage.7 DAY TEST OWN MONEY BACK GUARANTEE: Every Carvana car comes with a 7-day money-back guarantee. Why? It takes more than 15-minutes to make a decision on your next car. Learn more about test owning at http://about.carvanaauto.comFLEXIBLE FINANCING, TRADE INS WELCOME: We’re all about real-time financing without the middle man. Need financing? Pick a combination of down and monthly payments that work for you. Have a trade-in? We’ll give you a value in 2 minutes. Check out everything about our financing at:http://finance.carvanaauto.com/7163530-74513COST SAVINGS: Carvana's business model has fewer expenses and no bloated fees compared to your local dealership. See how much we can save you at http://about.carvanaauto.comPREMIUM DETAIL: We go the extra mile so that your car is looking as good as new. There are a lot of specifics that we won’t list here (we wash, clean, buff, paint, polish, wax, seal), but trust us that when your car arrives, it’s going to look sweet.Vehicle Info for Stock# 2000998960Trim: Laramie Pickup 4D 5 1/2 ft pickupMileage: 70k milesExterior Color: BlackInterior Color: BLACKEngine: Drive: 4wdTransmission: VIN: 1C6RR7NT2FS768933Dealer Disclosure: Price excludes tax, title, and registration (which we handle for you).Disclaimer: You agree that by providing your phone number, Carvana, or Carvana’s authorized representatives*, may call and/or send text messages (including by using equipment to automatically dial telephone numbers) about your interest in a purchase, for marketing/sales purposes, or for any other servicing or informational purpose related to your account. You do not have to consent to receiving calls or texts to purchase from Carvana. While every reasonable effort is made to ensure the accuracy of the information for this Ram 1500 Crew Cab, we are not responsible for any errors or omissions contained in this ad. Please verify any information in question with Carvana at 617-362-3171*Including, but not limited to, Bridgecrest Credit Company, GO Financial and SilverRock Automotive.*Ram* *1500* *Crew* *Cab* *ST* *Ram* *1500* *Crew* *Cab* *R/T* *Ram* *1500* *Crew* *Cab* *Tradesman/Express* *Ram* *1500* *Crew* *Cab* *SLT* *Ram* *1500* *Crew* *Cab* *HFE* *Ram* *1500* *Crew* *Cab* *Sport* *Ram* *1500* *Crew* *Cab* *SST* *Ram* *1500* *Crew* *Cab* *Laramie* *Ram* *1500* *Crew* *Cab* *Longhorn* *Ram* *1500* *Crew* *Cab* *Laramie/longhorn* *Limited* *Edition* *120* *in* *WB* *Ram* *1500* *Crew* *Cab* *140* *in* *WB* *Ram* *1500* *Crew* *Cab* *149* *in* *WB* *4x4* *Ram* *1500* *Crew* *Cab* *4x2* *Regular* *Cab* *Ram* *1500* *Crew* *Cab* *Crew* *Cab* *Quad* *Cab* *Pick* *up* 2022  2021  2020  2019  2018  2017  2016  2015  2014  2013  2012  2011  2010  2009  2008  2007  2006  2005  2004  2003  2002  2001  2000   22  21    19  18  17  16  15  14  13  12  11  10  09  08  07  06  05  04  03  02  01  00                                                                                                                                                                                                                                                                                                                                                                                                                                                                                                                                                                                                                                                                                                                                                                                                                                                                                                                                                                                                                                                                                                                                                                                                                                                                                                                                                                                                                                                                                                                                                                                                                                                                                                                                                                                                                                                                                                                                                                                                                                                                                                                                                                                                                                                                                                                                                                                                                                                                                                                                                                                                                                                                                                                                                                                                                                                                                                                                                                                                                                                                                                                                                                                                                                                                                                                                                                                                                                                                                                                                                                                                                                                                                                                                                                                                                                                                                                                                                                                                                                                                                                                                                                                                                                                                                                                                                                                                                                                                                                                                                                                                                                                                                                                                                                                                                                                                                                                                                                                                                                                                                                                                                                                                                                                                                                                                                                                                                          1\n",
      "2008 Saturn Vue Is the Xr package so it has some xtras. Truck has been well kept and is a non smoker. Has jo mechanical issues and runs and drives great. All options are fully functional. Cloth seats, power windows, power locks, power seats, roof... Am/fm radio, cd player, aux, has rear entertainment package with additional head phones for both tvs... Heat/ac, dual climate controls. 18\" Saturn Alloy rims with 90% tread life left on all tires.  show contact info , serious inquiries only please thanks                                                                                                                                                                                                                                                                                                                                                                                                                                                                                                                                                                                                                                                                                                                                                                                                                                                                                                                                                                                                                                                                                                                                                                                                                                                                                                                                                                                                                                                                                                                                                                                                                                                                                                                                                                                                                                                                                                                                                                                                                                                                                                                                                                                                                                                                                                                                                                                                                                                                                                                                                                                                                                                                                                                                                                                                                                                                                                                                                                                                                                                                                                                                                                                                                                                                                                                                                                                                                                                                                                                                                                                                                                                                                                                                                                                                                                                                                                                                                                                                                                                                                                                                                                                                                                                                                                                                                                                                                                                                                                                                                                                                                                                                                                                                                                                                                                                                                                                                                                                                                                                                                                                                                                                                                                                                                                                                                                                                                                                                                                                                                                                                                                                                                                                                                                                                                                                                                                                                                                                                                                                                                                                                                                                                                                                                                                                                                                                                                                                                                                                                                                                                                                                                                                                                                                                                                                                                                                                                                                                                                                                                                                                                                                                                                                                                                                                                                                                                                                                                                                                                                                                                                                                                                                                                                                                                                                                                                                                                                                                                                                                                                                                                                                                                                                                                                                                                                                                                                                                                                                                                                                                                                                                                                                                                                                                                                                                                                                                                                                                                                                                                                                                                                                                                                                                                                                                                                                                                                                                                                                                                                                                                          1\n",
      "Bought new car and no longer drive. Excellent condition very low mileage. Tires have less than 2000 miles on them. Eco system so mileage is great. Fully loaded including back up camera.  Oil changed every 3000 miles. 10,200 OBO. You won’t find a quality car nicer than this.                                                                                                                                                                                                                                                                                                                                                                                                                                                                                                                                                                                                                                                                                                                                                                                                                                                                                                                                                                                                                                                                                                                                                                                                                                                                                                                                                                                                                                                                                                                                                                                                                                                                                                                                                                                                                                                                                                                                                                                                                                                                                                                                                                                                                                                                                                                                                                                                                                                                                                                                                                                                                                                                                                                                                                                                                                                                                                                                                                                                                                                                                                                                                                                                                                                                                                                                                                                                                                                                                                                                                                                                                                                                                                                                                                                                                                                                                                                                                                                                                                                                                                                                                                                                                                                                                                                                                                                                                                                                                                                                                                                                                                                                                                                                                                                                                                                                                                                                                                                                                                                                                                                                                                                                                                                                                                                                                                                                                                                                                                                                                                                                                                                                                                                                                                                                                                                                                                                                                                                                                                                                                                                                                                                                                                                                                                                                                                                                                                                                                                                                                                                                                                                                                                                                                                                                                                                                                                                                                                                                                                                                                                                                                                                                                                                                                                                                                                                                                                                                                                                                                                                                                                                                                                                                                                                                                                                                                                                                                                                                                                                                                                                                                                                                                                                                                                                                                                                                                                                                                                                                                                                                                                                                                                                                                                                                                                                                                                                                                                                                                                                                                                                                                                                                                                                                                                                                                                                                                                                                                                                                                                                                                                                                                                                                                                                                                                                1\n",
      "Name: description, Length: 360911, dtype: int64\n",
      "Series([], Name: county, dtype: int64)\n",
      "ca    50614\n",
      "fl    28511\n",
      "tx    22945\n",
      "ny    19386\n",
      "oh    17696\n",
      "or    17104\n",
      "mi    16900\n",
      "nc    15277\n",
      "wa    13861\n",
      "pa    13753\n",
      "wi    11398\n",
      "co    11088\n",
      "tn    11066\n",
      "va    10732\n",
      "il    10387\n",
      "nj     9742\n",
      "id     8961\n",
      "az     8679\n",
      "ia     8632\n",
      "ma     8174\n",
      "mn     7716\n",
      "ga     7003\n",
      "ok     6792\n",
      "sc     6327\n",
      "mt     6294\n",
      "ks     6209\n",
      "in     5704\n",
      "ct     5188\n",
      "al     4955\n",
      "md     4778\n",
      "nm     4425\n",
      "mo     4293\n",
      "ky     4149\n",
      "ar     4038\n",
      "ak     3474\n",
      "la     3196\n",
      "nv     3194\n",
      "nh     2981\n",
      "dc     2970\n",
      "me     2966\n",
      "hi     2964\n",
      "vt     2513\n",
      "ri     2320\n",
      "sd     1302\n",
      "ut     1150\n",
      "wv     1052\n",
      "ne     1036\n",
      "ms     1016\n",
      "de      949\n",
      "wy      610\n",
      "nd      410\n",
      "Name: state, dtype: int64\n",
      "33.779214    3301\n",
      "43.182400    2666\n",
      "40.468785    2346\n",
      "33.786500    2341\n",
      "46.234838    1866\n",
      "             ... \n",
      "42.854300       1\n",
      "28.759247       1\n",
      "44.630334       1\n",
      "38.682983       1\n",
      "35.289372       1\n",
      "Name: lat, Length: 53181, dtype: int64\n",
      "-84.411811     3301\n",
      "-84.112200     2666\n",
      "-74.281707     2346\n",
      "-84.445400     2341\n",
      "-119.128015    1866\n",
      "               ... \n",
      "-135.542000       1\n",
      "-89.816246        1\n",
      "-78.452168        1\n",
      "-92.951889        1\n",
      " 0.000000         1\n",
      "Name: long, Length: 53772, dtype: int64\n",
      "2021-04-23T22:13:05-0400    12\n",
      "2021-04-13T13:19:15-0500    11\n",
      "2021-04-22T20:32:05-0400    11\n",
      "2021-04-16T12:07:56-0500    10\n",
      "2021-04-29T20:06:09-0500     9\n",
      "                            ..\n",
      "2021-04-20T10:36:45-0400     1\n",
      "2021-04-30T16:59:59-0500     1\n",
      "2021-04-30T06:36:03-0400     1\n",
      "2021-04-12T13:01:03-0500     1\n",
      "2021-05-04T15:26:02-0500     1\n",
      "Name: posting_date, Length: 381536, dtype: int64\n"
     ]
    }
   ],
   "source": [
    "Col=df.columns\n",
    "for i in Col:\n",
    "    print(df[i].value_counts())"
   ]
  },
  {
   "cell_type": "code",
   "execution_count": 8,
   "metadata": {
    "execution": {
     "iopub.execute_input": "2023-04-13T10:08:17.912952Z",
     "iopub.status.busy": "2023-04-13T10:08:17.912235Z",
     "iopub.status.idle": "2023-04-13T10:08:18.001781Z",
     "shell.execute_reply": "2023-04-13T10:08:18.001099Z",
     "shell.execute_reply.started": "2023-04-13T09:15:49.831307Z"
    },
    "papermill": {
     "duration": 0.148757,
     "end_time": "2023-04-13T10:08:18.001920",
     "exception": false,
     "start_time": "2023-04-13T10:08:17.853163",
     "status": "completed"
    },
    "tags": []
   },
   "outputs": [],
   "source": [
    "df= df.drop(columns=['id','url', 'region_url', 'VIN', 'image_url', 'description', 'lat', 'long','county','region'], axis=1)"
   ]
  },
  {
   "cell_type": "code",
   "execution_count": 9,
   "metadata": {
    "execution": {
     "iopub.execute_input": "2023-04-13T10:08:18.120108Z",
     "iopub.status.busy": "2023-04-13T10:08:18.119430Z",
     "iopub.status.idle": "2023-04-13T10:08:18.132881Z",
     "shell.execute_reply": "2023-04-13T10:08:18.133395Z",
     "shell.execute_reply.started": "2023-04-13T09:15:49.910245Z"
    },
    "papermill": {
     "duration": 0.078649,
     "end_time": "2023-04-13T10:08:18.133571",
     "exception": false,
     "start_time": "2023-04-13T10:08:18.054922",
     "status": "completed"
    },
    "tags": []
   },
   "outputs": [
    {
     "data": {
      "text/html": [
       "<div>\n",
       "<style scoped>\n",
       "    .dataframe tbody tr th:only-of-type {\n",
       "        vertical-align: middle;\n",
       "    }\n",
       "\n",
       "    .dataframe tbody tr th {\n",
       "        vertical-align: top;\n",
       "    }\n",
       "\n",
       "    .dataframe thead th {\n",
       "        text-align: right;\n",
       "    }\n",
       "</style>\n",
       "<table border=\"1\" class=\"dataframe\">\n",
       "  <thead>\n",
       "    <tr style=\"text-align: right;\">\n",
       "      <th></th>\n",
       "      <th>price</th>\n",
       "      <th>year</th>\n",
       "      <th>manufacturer</th>\n",
       "      <th>model</th>\n",
       "      <th>condition</th>\n",
       "      <th>cylinders</th>\n",
       "      <th>fuel</th>\n",
       "      <th>odometer</th>\n",
       "      <th>title_status</th>\n",
       "      <th>transmission</th>\n",
       "      <th>drive</th>\n",
       "      <th>size</th>\n",
       "      <th>type</th>\n",
       "      <th>paint_color</th>\n",
       "      <th>state</th>\n",
       "      <th>posting_date</th>\n",
       "    </tr>\n",
       "  </thead>\n",
       "  <tbody>\n",
       "    <tr>\n",
       "      <th>0</th>\n",
       "      <td>6000</td>\n",
       "      <td>NaN</td>\n",
       "      <td>NaN</td>\n",
       "      <td>NaN</td>\n",
       "      <td>NaN</td>\n",
       "      <td>NaN</td>\n",
       "      <td>NaN</td>\n",
       "      <td>NaN</td>\n",
       "      <td>NaN</td>\n",
       "      <td>NaN</td>\n",
       "      <td>NaN</td>\n",
       "      <td>NaN</td>\n",
       "      <td>NaN</td>\n",
       "      <td>NaN</td>\n",
       "      <td>az</td>\n",
       "      <td>NaN</td>\n",
       "    </tr>\n",
       "    <tr>\n",
       "      <th>1</th>\n",
       "      <td>11900</td>\n",
       "      <td>NaN</td>\n",
       "      <td>NaN</td>\n",
       "      <td>NaN</td>\n",
       "      <td>NaN</td>\n",
       "      <td>NaN</td>\n",
       "      <td>NaN</td>\n",
       "      <td>NaN</td>\n",
       "      <td>NaN</td>\n",
       "      <td>NaN</td>\n",
       "      <td>NaN</td>\n",
       "      <td>NaN</td>\n",
       "      <td>NaN</td>\n",
       "      <td>NaN</td>\n",
       "      <td>ar</td>\n",
       "      <td>NaN</td>\n",
       "    </tr>\n",
       "    <tr>\n",
       "      <th>2</th>\n",
       "      <td>21000</td>\n",
       "      <td>NaN</td>\n",
       "      <td>NaN</td>\n",
       "      <td>NaN</td>\n",
       "      <td>NaN</td>\n",
       "      <td>NaN</td>\n",
       "      <td>NaN</td>\n",
       "      <td>NaN</td>\n",
       "      <td>NaN</td>\n",
       "      <td>NaN</td>\n",
       "      <td>NaN</td>\n",
       "      <td>NaN</td>\n",
       "      <td>NaN</td>\n",
       "      <td>NaN</td>\n",
       "      <td>fl</td>\n",
       "      <td>NaN</td>\n",
       "    </tr>\n",
       "    <tr>\n",
       "      <th>3</th>\n",
       "      <td>1500</td>\n",
       "      <td>NaN</td>\n",
       "      <td>NaN</td>\n",
       "      <td>NaN</td>\n",
       "      <td>NaN</td>\n",
       "      <td>NaN</td>\n",
       "      <td>NaN</td>\n",
       "      <td>NaN</td>\n",
       "      <td>NaN</td>\n",
       "      <td>NaN</td>\n",
       "      <td>NaN</td>\n",
       "      <td>NaN</td>\n",
       "      <td>NaN</td>\n",
       "      <td>NaN</td>\n",
       "      <td>ma</td>\n",
       "      <td>NaN</td>\n",
       "    </tr>\n",
       "    <tr>\n",
       "      <th>4</th>\n",
       "      <td>4900</td>\n",
       "      <td>NaN</td>\n",
       "      <td>NaN</td>\n",
       "      <td>NaN</td>\n",
       "      <td>NaN</td>\n",
       "      <td>NaN</td>\n",
       "      <td>NaN</td>\n",
       "      <td>NaN</td>\n",
       "      <td>NaN</td>\n",
       "      <td>NaN</td>\n",
       "      <td>NaN</td>\n",
       "      <td>NaN</td>\n",
       "      <td>NaN</td>\n",
       "      <td>NaN</td>\n",
       "      <td>nc</td>\n",
       "      <td>NaN</td>\n",
       "    </tr>\n",
       "  </tbody>\n",
       "</table>\n",
       "</div>"
      ],
      "text/plain": [
       "   price  year manufacturer model condition cylinders fuel  odometer  \\\n",
       "0   6000   NaN          NaN   NaN       NaN       NaN  NaN       NaN   \n",
       "1  11900   NaN          NaN   NaN       NaN       NaN  NaN       NaN   \n",
       "2  21000   NaN          NaN   NaN       NaN       NaN  NaN       NaN   \n",
       "3   1500   NaN          NaN   NaN       NaN       NaN  NaN       NaN   \n",
       "4   4900   NaN          NaN   NaN       NaN       NaN  NaN       NaN   \n",
       "\n",
       "  title_status transmission drive size type paint_color state posting_date  \n",
       "0          NaN          NaN   NaN  NaN  NaN         NaN    az          NaN  \n",
       "1          NaN          NaN   NaN  NaN  NaN         NaN    ar          NaN  \n",
       "2          NaN          NaN   NaN  NaN  NaN         NaN    fl          NaN  \n",
       "3          NaN          NaN   NaN  NaN  NaN         NaN    ma          NaN  \n",
       "4          NaN          NaN   NaN  NaN  NaN         NaN    nc          NaN  "
      ]
     },
     "execution_count": 9,
     "metadata": {},
     "output_type": "execute_result"
    }
   ],
   "source": [
    "df.head()"
   ]
  },
  {
   "cell_type": "code",
   "execution_count": 10,
   "metadata": {
    "execution": {
     "iopub.execute_input": "2023-04-13T10:08:18.244921Z",
     "iopub.status.busy": "2023-04-13T10:08:18.244189Z",
     "iopub.status.idle": "2023-04-13T10:08:18.323406Z",
     "shell.execute_reply": "2023-04-13T10:08:18.322090Z",
     "shell.execute_reply.started": "2023-04-13T09:15:49.935478Z"
    },
    "papermill": {
     "duration": 0.135795,
     "end_time": "2023-04-13T10:08:18.323586",
     "exception": false,
     "start_time": "2023-04-13T10:08:18.187791",
     "status": "completed"
    },
    "tags": []
   },
   "outputs": [
    {
     "data": {
      "text/html": [
       "<div>\n",
       "<style scoped>\n",
       "    .dataframe tbody tr th:only-of-type {\n",
       "        vertical-align: middle;\n",
       "    }\n",
       "\n",
       "    .dataframe tbody tr th {\n",
       "        vertical-align: top;\n",
       "    }\n",
       "\n",
       "    .dataframe thead th {\n",
       "        text-align: right;\n",
       "    }\n",
       "</style>\n",
       "<table border=\"1\" class=\"dataframe\">\n",
       "  <thead>\n",
       "    <tr style=\"text-align: right;\">\n",
       "      <th></th>\n",
       "      <th>price</th>\n",
       "      <th>year</th>\n",
       "      <th>odometer</th>\n",
       "    </tr>\n",
       "  </thead>\n",
       "  <tbody>\n",
       "    <tr>\n",
       "      <th>count</th>\n",
       "      <td>4.268800e+05</td>\n",
       "      <td>425675.000000</td>\n",
       "      <td>4.224800e+05</td>\n",
       "    </tr>\n",
       "    <tr>\n",
       "      <th>mean</th>\n",
       "      <td>7.519903e+04</td>\n",
       "      <td>2011.235191</td>\n",
       "      <td>9.804333e+04</td>\n",
       "    </tr>\n",
       "    <tr>\n",
       "      <th>std</th>\n",
       "      <td>1.218228e+07</td>\n",
       "      <td>9.452120</td>\n",
       "      <td>2.138815e+05</td>\n",
       "    </tr>\n",
       "    <tr>\n",
       "      <th>min</th>\n",
       "      <td>0.000000e+00</td>\n",
       "      <td>1900.000000</td>\n",
       "      <td>0.000000e+00</td>\n",
       "    </tr>\n",
       "    <tr>\n",
       "      <th>25%</th>\n",
       "      <td>5.900000e+03</td>\n",
       "      <td>2008.000000</td>\n",
       "      <td>3.770400e+04</td>\n",
       "    </tr>\n",
       "    <tr>\n",
       "      <th>50%</th>\n",
       "      <td>1.395000e+04</td>\n",
       "      <td>2013.000000</td>\n",
       "      <td>8.554800e+04</td>\n",
       "    </tr>\n",
       "    <tr>\n",
       "      <th>75%</th>\n",
       "      <td>2.648575e+04</td>\n",
       "      <td>2017.000000</td>\n",
       "      <td>1.335425e+05</td>\n",
       "    </tr>\n",
       "    <tr>\n",
       "      <th>max</th>\n",
       "      <td>3.736929e+09</td>\n",
       "      <td>2022.000000</td>\n",
       "      <td>1.000000e+07</td>\n",
       "    </tr>\n",
       "  </tbody>\n",
       "</table>\n",
       "</div>"
      ],
      "text/plain": [
       "              price           year      odometer\n",
       "count  4.268800e+05  425675.000000  4.224800e+05\n",
       "mean   7.519903e+04    2011.235191  9.804333e+04\n",
       "std    1.218228e+07       9.452120  2.138815e+05\n",
       "min    0.000000e+00    1900.000000  0.000000e+00\n",
       "25%    5.900000e+03    2008.000000  3.770400e+04\n",
       "50%    1.395000e+04    2013.000000  8.554800e+04\n",
       "75%    2.648575e+04    2017.000000  1.335425e+05\n",
       "max    3.736929e+09    2022.000000  1.000000e+07"
      ]
     },
     "execution_count": 10,
     "metadata": {},
     "output_type": "execute_result"
    }
   ],
   "source": [
    "df.describe()"
   ]
  },
  {
   "cell_type": "code",
   "execution_count": 11,
   "metadata": {
    "execution": {
     "iopub.execute_input": "2023-04-13T10:08:18.662363Z",
     "iopub.status.busy": "2023-04-13T10:08:18.660989Z",
     "iopub.status.idle": "2023-04-13T10:08:18.664566Z",
     "shell.execute_reply": "2023-04-13T10:08:18.663972Z",
     "shell.execute_reply.started": "2023-04-13T09:15:50.018786Z"
    },
    "papermill": {
     "duration": 0.266002,
     "end_time": "2023-04-13T10:08:18.664703",
     "exception": false,
     "start_time": "2023-04-13T10:08:18.398701",
     "status": "completed"
    },
    "tags": []
   },
   "outputs": [],
   "source": [
    "sort_price=sorted(df[\"price\"])"
   ]
  },
  {
   "cell_type": "code",
   "execution_count": 12,
   "metadata": {
    "execution": {
     "iopub.execute_input": "2023-04-13T10:08:18.780894Z",
     "iopub.status.busy": "2023-04-13T10:08:18.780115Z",
     "iopub.status.idle": "2023-04-13T10:08:18.888927Z",
     "shell.execute_reply": "2023-04-13T10:08:18.889506Z",
     "shell.execute_reply.started": "2023-04-13T09:15:50.214210Z"
    },
    "papermill": {
     "duration": 0.168229,
     "end_time": "2023-04-13T10:08:18.889723",
     "exception": false,
     "start_time": "2023-04-13T10:08:18.721494",
     "status": "completed"
    },
    "tags": []
   },
   "outputs": [],
   "source": [
    "q1, q2 = np.percentile(sort_price,[10,90])"
   ]
  },
  {
   "cell_type": "code",
   "execution_count": 13,
   "metadata": {
    "execution": {
     "iopub.execute_input": "2023-04-13T10:08:19.004814Z",
     "iopub.status.busy": "2023-04-13T10:08:19.004080Z",
     "iopub.status.idle": "2023-04-13T10:08:19.009311Z",
     "shell.execute_reply": "2023-04-13T10:08:19.008775Z",
     "shell.execute_reply.started": "2023-04-13T09:15:50.347196Z"
    },
    "papermill": {
     "duration": 0.064418,
     "end_time": "2023-04-13T10:08:19.009458",
     "exception": false,
     "start_time": "2023-04-13T10:08:18.945040",
     "status": "completed"
    },
    "tags": []
   },
   "outputs": [
    {
     "name": "stdout",
     "output_type": "stream",
     "text": [
      "500.0 37590.0\n"
     ]
    }
   ],
   "source": [
    "print(q1,q2)"
   ]
  },
  {
   "cell_type": "code",
   "execution_count": 14,
   "metadata": {
    "execution": {
     "iopub.execute_input": "2023-04-13T10:08:19.123897Z",
     "iopub.status.busy": "2023-04-13T10:08:19.123144Z",
     "iopub.status.idle": "2023-04-13T10:08:19.197948Z",
     "shell.execute_reply": "2023-04-13T10:08:19.198557Z",
     "shell.execute_reply.started": "2023-04-13T09:15:50.354634Z"
    },
    "papermill": {
     "duration": 0.134126,
     "end_time": "2023-04-13T10:08:19.198748",
     "exception": false,
     "start_time": "2023-04-13T10:08:19.064622",
     "status": "completed"
    },
    "tags": []
   },
   "outputs": [
    {
     "data": {
      "text/plain": [
       "(285044, 16)"
      ]
     },
     "execution_count": 14,
     "metadata": {},
     "output_type": "execute_result"
    }
   ],
   "source": [
    "df=df[(df.price < 27500) & (df.price >= 500 )]\n",
    "df.shape"
   ]
  },
  {
   "cell_type": "code",
   "execution_count": 15,
   "metadata": {
    "execution": {
     "iopub.execute_input": "2023-04-13T10:08:19.313384Z",
     "iopub.status.busy": "2023-04-13T10:08:19.312656Z",
     "iopub.status.idle": "2023-04-13T10:08:19.406741Z",
     "shell.execute_reply": "2023-04-13T10:08:19.407264Z",
     "shell.execute_reply.started": "2023-04-13T09:15:50.438237Z"
    },
    "papermill": {
     "duration": 0.152662,
     "end_time": "2023-04-13T10:08:19.407456",
     "exception": false,
     "start_time": "2023-04-13T10:08:19.254794",
     "status": "completed"
    },
    "tags": []
   },
   "outputs": [
    {
     "data": {
      "text/plain": [
       "[nan,\n",
       " nan,\n",
       " nan,\n",
       " nan,\n",
       " nan,\n",
       " nan,\n",
       " nan,\n",
       " nan,\n",
       " nan,\n",
       " nan,\n",
       " nan,\n",
       " nan,\n",
       " nan,\n",
       " nan,\n",
       " nan,\n",
       " nan,\n",
       " nan,\n",
       " nan,\n",
       " nan,\n",
       " nan,\n",
       " nan,\n",
       " nan,\n",
       " 0.0,\n",
       " 0.0,\n",
       " 0.0,\n",
       " 0.0,\n",
       " 0.0,\n",
       " 0.0,\n",
       " 0.0,\n",
       " 0.0,\n",
       " 0.0,\n",
       " 0.0,\n",
       " 0.0,\n",
       " 0.0,\n",
       " 0.0,\n",
       " 0.0,\n",
       " 0.0,\n",
       " 0.0,\n",
       " 0.0,\n",
       " 0.0,\n",
       " 0.0,\n",
       " 0.0,\n",
       " 0.0,\n",
       " 0.0,\n",
       " 0.0,\n",
       " 0.0,\n",
       " 0.0,\n",
       " 0.0,\n",
       " 0.0,\n",
       " 0.0,\n",
       " 0.0,\n",
       " 0.0,\n",
       " 0.0,\n",
       " 0.0,\n",
       " 0.0,\n",
       " 0.0,\n",
       " 0.0,\n",
       " 0.0,\n",
       " 0.0,\n",
       " 0.0,\n",
       " 0.0,\n",
       " 0.0,\n",
       " 0.0,\n",
       " 0.0,\n",
       " 0.0,\n",
       " 0.0,\n",
       " 0.0,\n",
       " 0.0,\n",
       " 0.0,\n",
       " 0.0,\n",
       " 0.0,\n",
       " 0.0,\n",
       " 0.0,\n",
       " 0.0,\n",
       " 0.0,\n",
       " 0.0,\n",
       " 0.0,\n",
       " 0.0,\n",
       " 0.0,\n",
       " 0.0,\n",
       " 0.0,\n",
       " 0.0,\n",
       " 0.0,\n",
       " 0.0,\n",
       " 0.0,\n",
       " 0.0,\n",
       " 0.0,\n",
       " 0.0,\n",
       " 0.0,\n",
       " 0.0,\n",
       " 0.0,\n",
       " 0.0,\n",
       " 0.0,\n",
       " 0.0,\n",
       " 0.0,\n",
       " 0.0,\n",
       " 0.0,\n",
       " 0.0,\n",
       " 0.0,\n",
       " 0.0,\n",
       " 0.0,\n",
       " 0.0,\n",
       " 0.0,\n",
       " 0.0,\n",
       " 0.0,\n",
       " 0.0,\n",
       " 0.0,\n",
       " 0.0,\n",
       " 0.0,\n",
       " 0.0,\n",
       " 0.0,\n",
       " 0.0,\n",
       " 0.0,\n",
       " 0.0,\n",
       " 0.0,\n",
       " 0.0,\n",
       " 0.0,\n",
       " 0.0,\n",
       " 0.0,\n",
       " 0.0,\n",
       " 0.0,\n",
       " 0.0,\n",
       " 0.0,\n",
       " 0.0,\n",
       " 0.0,\n",
       " 0.0,\n",
       " 0.0,\n",
       " 0.0,\n",
       " 0.0,\n",
       " 0.0,\n",
       " 0.0,\n",
       " 0.0,\n",
       " 0.0,\n",
       " 0.0,\n",
       " 0.0,\n",
       " 0.0,\n",
       " 0.0,\n",
       " 0.0,\n",
       " 0.0,\n",
       " 0.0,\n",
       " 0.0,\n",
       " 0.0,\n",
       " 0.0,\n",
       " 0.0,\n",
       " 0.0,\n",
       " 0.0,\n",
       " 0.0,\n",
       " 0.0,\n",
       " 0.0,\n",
       " 0.0,\n",
       " 0.0,\n",
       " 0.0,\n",
       " 0.0,\n",
       " 0.0,\n",
       " 0.0,\n",
       " 0.0,\n",
       " 0.0,\n",
       " 0.0,\n",
       " 0.0,\n",
       " 0.0,\n",
       " 0.0,\n",
       " 0.0,\n",
       " 0.0,\n",
       " 0.0,\n",
       " 0.0,\n",
       " 0.0,\n",
       " 0.0,\n",
       " 0.0,\n",
       " 0.0,\n",
       " 0.0,\n",
       " 0.0,\n",
       " 0.0,\n",
       " 0.0,\n",
       " 0.0,\n",
       " 0.0,\n",
       " 0.0,\n",
       " 0.0,\n",
       " 0.0,\n",
       " 0.0,\n",
       " 0.0,\n",
       " 0.0,\n",
       " 0.0,\n",
       " 0.0,\n",
       " 0.0,\n",
       " 0.0,\n",
       " 0.0,\n",
       " 0.0,\n",
       " 0.0,\n",
       " 0.0,\n",
       " 0.0,\n",
       " 0.0,\n",
       " 0.0,\n",
       " 0.0,\n",
       " 0.0,\n",
       " 0.0,\n",
       " 0.0,\n",
       " 0.0,\n",
       " 0.0,\n",
       " 0.0,\n",
       " 0.0,\n",
       " 0.0,\n",
       " 0.0,\n",
       " 0.0,\n",
       " 0.0,\n",
       " 0.0,\n",
       " 0.0,\n",
       " 0.0,\n",
       " 0.0,\n",
       " 0.0,\n",
       " 0.0,\n",
       " 0.0,\n",
       " 0.0,\n",
       " 0.0,\n",
       " 0.0,\n",
       " 0.0,\n",
       " 0.0,\n",
       " 0.0,\n",
       " 0.0,\n",
       " 0.0,\n",
       " 0.0,\n",
       " 0.0,\n",
       " 0.0,\n",
       " 0.0,\n",
       " 0.0,\n",
       " 0.0,\n",
       " 0.0,\n",
       " 0.0,\n",
       " 0.0,\n",
       " 0.0,\n",
       " 0.0,\n",
       " 0.0,\n",
       " 0.0,\n",
       " 0.0,\n",
       " 0.0,\n",
       " 0.0,\n",
       " 0.0,\n",
       " 0.0,\n",
       " 0.0,\n",
       " 0.0,\n",
       " 0.0,\n",
       " 0.0,\n",
       " 0.0,\n",
       " 0.0,\n",
       " 0.0,\n",
       " 0.0,\n",
       " 0.0,\n",
       " 0.0,\n",
       " 0.0,\n",
       " 0.0,\n",
       " 0.0,\n",
       " 0.0,\n",
       " 0.0,\n",
       " 0.0,\n",
       " 0.0,\n",
       " 0.0,\n",
       " 0.0,\n",
       " 0.0,\n",
       " 0.0,\n",
       " 0.0,\n",
       " 0.0,\n",
       " 0.0,\n",
       " 0.0,\n",
       " 0.0,\n",
       " 0.0,\n",
       " 0.0,\n",
       " 0.0,\n",
       " 0.0,\n",
       " 0.0,\n",
       " 0.0,\n",
       " 0.0,\n",
       " 0.0,\n",
       " 0.0,\n",
       " 0.0,\n",
       " 0.0,\n",
       " 0.0,\n",
       " 0.0,\n",
       " 0.0,\n",
       " 0.0,\n",
       " 0.0,\n",
       " 0.0,\n",
       " 0.0,\n",
       " 0.0,\n",
       " 0.0,\n",
       " 0.0,\n",
       " 0.0,\n",
       " 0.0,\n",
       " 0.0,\n",
       " 0.0,\n",
       " 0.0,\n",
       " 0.0,\n",
       " 0.0,\n",
       " 0.0,\n",
       " 0.0,\n",
       " 0.0,\n",
       " 0.0,\n",
       " 0.0,\n",
       " 0.0,\n",
       " 0.0,\n",
       " 0.0,\n",
       " 0.0,\n",
       " 0.0,\n",
       " 0.0,\n",
       " 0.0,\n",
       " 0.0,\n",
       " 0.0,\n",
       " 0.0,\n",
       " 0.0,\n",
       " 0.0,\n",
       " 0.0,\n",
       " 0.0,\n",
       " 0.0,\n",
       " 0.0,\n",
       " 0.0,\n",
       " 0.0,\n",
       " 0.0,\n",
       " 0.0,\n",
       " 0.0,\n",
       " 0.0,\n",
       " 0.0,\n",
       " 0.0,\n",
       " 0.0,\n",
       " 0.0,\n",
       " 0.0,\n",
       " 0.0,\n",
       " 0.0,\n",
       " 0.0,\n",
       " 0.0,\n",
       " 0.0,\n",
       " 0.0,\n",
       " 0.0,\n",
       " 0.0,\n",
       " 0.0,\n",
       " 0.0,\n",
       " 0.0,\n",
       " 0.0,\n",
       " 0.0,\n",
       " 0.0,\n",
       " 0.0,\n",
       " 0.0,\n",
       " 0.0,\n",
       " 0.0,\n",
       " 0.0,\n",
       " 0.0,\n",
       " 0.0,\n",
       " 0.0,\n",
       " 0.0,\n",
       " 0.0,\n",
       " 0.0,\n",
       " 0.0,\n",
       " 1.0,\n",
       " 1.0,\n",
       " 1.0,\n",
       " 1.0,\n",
       " 1.0,\n",
       " 1.0,\n",
       " 1.0,\n",
       " 1.0,\n",
       " 1.0,\n",
       " 1.0,\n",
       " 1.0,\n",
       " 1.0,\n",
       " 1.0,\n",
       " 1.0,\n",
       " 1.0,\n",
       " 1.0,\n",
       " 1.0,\n",
       " 1.0,\n",
       " 1.0,\n",
       " 1.0,\n",
       " 1.0,\n",
       " 1.0,\n",
       " 1.0,\n",
       " 1.0,\n",
       " 1.0,\n",
       " 1.0,\n",
       " 1.0,\n",
       " 1.0,\n",
       " 1.0,\n",
       " 1.0,\n",
       " 1.0,\n",
       " 1.0,\n",
       " 1.0,\n",
       " 1.0,\n",
       " 1.0,\n",
       " 1.0,\n",
       " 1.0,\n",
       " 1.0,\n",
       " 1.0,\n",
       " 1.0,\n",
       " 1.0,\n",
       " 1.0,\n",
       " 1.0,\n",
       " 1.0,\n",
       " 1.0,\n",
       " 1.0,\n",
       " 1.0,\n",
       " 1.0,\n",
       " 1.0,\n",
       " 1.0,\n",
       " 1.0,\n",
       " 1.0,\n",
       " 1.0,\n",
       " 1.0,\n",
       " 1.0,\n",
       " 1.0,\n",
       " 1.0,\n",
       " 1.0,\n",
       " 1.0,\n",
       " 1.0,\n",
       " 1.0,\n",
       " 1.0,\n",
       " 1.0,\n",
       " 1.0,\n",
       " 1.0,\n",
       " 1.0,\n",
       " 1.0,\n",
       " 1.0,\n",
       " 1.0,\n",
       " 1.0,\n",
       " 1.0,\n",
       " 1.0,\n",
       " 1.0,\n",
       " 1.0,\n",
       " 1.0,\n",
       " 1.0,\n",
       " 1.0,\n",
       " 1.0,\n",
       " 1.0,\n",
       " 1.0,\n",
       " 1.0,\n",
       " 1.0,\n",
       " 1.0,\n",
       " 1.0,\n",
       " 1.0,\n",
       " 1.0,\n",
       " 1.0,\n",
       " 1.0,\n",
       " 1.0,\n",
       " 1.0,\n",
       " 1.0,\n",
       " 1.0,\n",
       " 1.0,\n",
       " 1.0,\n",
       " 1.0,\n",
       " 1.0,\n",
       " 1.0,\n",
       " 1.0,\n",
       " 1.0,\n",
       " 1.0,\n",
       " 1.0,\n",
       " 1.0,\n",
       " 1.0,\n",
       " 1.0,\n",
       " 1.0,\n",
       " 1.0,\n",
       " 1.0,\n",
       " 1.0,\n",
       " 1.0,\n",
       " 1.0,\n",
       " 1.0,\n",
       " 1.0,\n",
       " 1.0,\n",
       " 1.0,\n",
       " 1.0,\n",
       " 1.0,\n",
       " 1.0,\n",
       " 1.0,\n",
       " 1.0,\n",
       " 1.0,\n",
       " 1.0,\n",
       " 1.0,\n",
       " 1.0,\n",
       " 1.0,\n",
       " 1.0,\n",
       " 1.0,\n",
       " 1.0,\n",
       " 1.0,\n",
       " 1.0,\n",
       " 1.0,\n",
       " 1.0,\n",
       " 1.0,\n",
       " 1.0,\n",
       " 1.0,\n",
       " 1.0,\n",
       " 1.0,\n",
       " 1.0,\n",
       " 1.0,\n",
       " 1.0,\n",
       " 1.0,\n",
       " 1.0,\n",
       " 1.0,\n",
       " 1.0,\n",
       " 1.0,\n",
       " 1.0,\n",
       " 1.0,\n",
       " 1.0,\n",
       " 1.0,\n",
       " 1.0,\n",
       " 1.0,\n",
       " 1.0,\n",
       " 1.0,\n",
       " 1.0,\n",
       " 1.0,\n",
       " 1.0,\n",
       " 1.0,\n",
       " 1.0,\n",
       " 1.0,\n",
       " 1.0,\n",
       " 1.0,\n",
       " 1.0,\n",
       " 1.0,\n",
       " 1.0,\n",
       " 1.0,\n",
       " 1.0,\n",
       " 1.0,\n",
       " 1.0,\n",
       " 1.0,\n",
       " 1.0,\n",
       " 1.0,\n",
       " 1.0,\n",
       " 1.0,\n",
       " 1.0,\n",
       " 1.0,\n",
       " 1.0,\n",
       " 1.0,\n",
       " 1.0,\n",
       " 1.0,\n",
       " 1.0,\n",
       " 1.0,\n",
       " 1.0,\n",
       " 1.0,\n",
       " 1.0,\n",
       " 1.0,\n",
       " 1.0,\n",
       " 1.0,\n",
       " 1.0,\n",
       " 1.0,\n",
       " 1.0,\n",
       " 1.0,\n",
       " 1.0,\n",
       " 1.0,\n",
       " 1.0,\n",
       " 1.0,\n",
       " 1.0,\n",
       " 1.0,\n",
       " 1.0,\n",
       " 1.0,\n",
       " 1.0,\n",
       " 1.0,\n",
       " 1.0,\n",
       " 1.0,\n",
       " 1.0,\n",
       " 1.0,\n",
       " 1.0,\n",
       " 1.0,\n",
       " 1.0,\n",
       " 1.0,\n",
       " 1.0,\n",
       " 1.0,\n",
       " 1.0,\n",
       " 1.0,\n",
       " 1.0,\n",
       " 1.0,\n",
       " 1.0,\n",
       " 1.0,\n",
       " 1.0,\n",
       " 1.0,\n",
       " 1.0,\n",
       " 1.0,\n",
       " 1.0,\n",
       " 1.0,\n",
       " 1.0,\n",
       " 1.0,\n",
       " 1.0,\n",
       " 1.0,\n",
       " 1.0,\n",
       " 1.0,\n",
       " 1.0,\n",
       " 1.0,\n",
       " 1.0,\n",
       " 1.0,\n",
       " 1.0,\n",
       " 1.0,\n",
       " 1.0,\n",
       " 1.0,\n",
       " 1.0,\n",
       " 1.0,\n",
       " 1.0,\n",
       " 1.0,\n",
       " 1.0,\n",
       " 1.0,\n",
       " 1.0,\n",
       " 1.0,\n",
       " 1.0,\n",
       " 1.0,\n",
       " 1.0,\n",
       " 1.0,\n",
       " 1.0,\n",
       " 1.0,\n",
       " 1.0,\n",
       " 1.0,\n",
       " 1.0,\n",
       " 1.0,\n",
       " 1.0,\n",
       " 1.0,\n",
       " 1.0,\n",
       " 1.0,\n",
       " 1.0,\n",
       " 1.0,\n",
       " 1.0,\n",
       " 1.0,\n",
       " 1.0,\n",
       " 1.0,\n",
       " 1.0,\n",
       " 1.0,\n",
       " 1.0,\n",
       " 1.0,\n",
       " 1.0,\n",
       " 1.0,\n",
       " 1.0,\n",
       " 1.0,\n",
       " 1.0,\n",
       " 1.0,\n",
       " 1.0,\n",
       " 1.0,\n",
       " 1.0,\n",
       " 1.0,\n",
       " 1.0,\n",
       " 1.0,\n",
       " 1.0,\n",
       " 1.0,\n",
       " 1.0,\n",
       " 1.0,\n",
       " 1.0,\n",
       " 1.0,\n",
       " 1.0,\n",
       " 1.0,\n",
       " 1.0,\n",
       " 1.0,\n",
       " 1.0,\n",
       " 1.0,\n",
       " 1.0,\n",
       " 1.0,\n",
       " 1.0,\n",
       " 1.0,\n",
       " 1.0,\n",
       " 1.0,\n",
       " 1.0,\n",
       " 1.0,\n",
       " 1.0,\n",
       " 1.0,\n",
       " 1.0,\n",
       " 1.0,\n",
       " 1.0,\n",
       " 1.0,\n",
       " 1.0,\n",
       " 1.0,\n",
       " 1.0,\n",
       " 1.0,\n",
       " 1.0,\n",
       " 1.0,\n",
       " 1.0,\n",
       " 1.0,\n",
       " 1.0,\n",
       " 1.0,\n",
       " 1.0,\n",
       " 1.0,\n",
       " 1.0,\n",
       " 1.0,\n",
       " 1.0,\n",
       " 1.0,\n",
       " 1.0,\n",
       " 1.0,\n",
       " 1.0,\n",
       " 1.0,\n",
       " 1.0,\n",
       " 1.0,\n",
       " 1.0,\n",
       " 1.0,\n",
       " 1.0,\n",
       " 1.0,\n",
       " 1.0,\n",
       " 1.0,\n",
       " 1.0,\n",
       " 1.0,\n",
       " 1.0,\n",
       " 1.0,\n",
       " 1.0,\n",
       " 1.0,\n",
       " 1.0,\n",
       " 1.0,\n",
       " 1.0,\n",
       " 1.0,\n",
       " 1.0,\n",
       " 1.0,\n",
       " 1.0,\n",
       " 1.0,\n",
       " 1.0,\n",
       " 1.0,\n",
       " 1.0,\n",
       " 1.0,\n",
       " 1.0,\n",
       " 1.0,\n",
       " 1.0,\n",
       " 1.0,\n",
       " 1.0,\n",
       " 1.0,\n",
       " 1.0,\n",
       " 1.0,\n",
       " 1.0,\n",
       " 1.0,\n",
       " 1.0,\n",
       " 1.0,\n",
       " 1.0,\n",
       " 1.0,\n",
       " 1.0,\n",
       " 1.0,\n",
       " 1.0,\n",
       " 1.0,\n",
       " 1.0,\n",
       " 1.0,\n",
       " 1.0,\n",
       " 1.0,\n",
       " 1.0,\n",
       " 1.0,\n",
       " 1.0,\n",
       " 1.0,\n",
       " 1.0,\n",
       " 1.0,\n",
       " 1.0,\n",
       " 1.0,\n",
       " 1.0,\n",
       " 1.0,\n",
       " 1.0,\n",
       " 1.0,\n",
       " 1.0,\n",
       " 1.0,\n",
       " 1.0,\n",
       " 1.0,\n",
       " 1.0,\n",
       " 1.0,\n",
       " 1.0,\n",
       " 1.0,\n",
       " 1.0,\n",
       " 1.0,\n",
       " 1.0,\n",
       " 1.0,\n",
       " 1.0,\n",
       " 1.0,\n",
       " 1.0,\n",
       " 1.0,\n",
       " 1.0,\n",
       " 1.0,\n",
       " 1.0,\n",
       " 1.0,\n",
       " 1.0,\n",
       " 1.0,\n",
       " 1.0,\n",
       " 1.0,\n",
       " 1.0,\n",
       " 1.0,\n",
       " 1.0,\n",
       " 1.0,\n",
       " 1.0,\n",
       " 1.0,\n",
       " 1.0,\n",
       " 1.0,\n",
       " 1.0,\n",
       " 1.0,\n",
       " 1.0,\n",
       " 1.0,\n",
       " 1.0,\n",
       " 1.0,\n",
       " 1.0,\n",
       " 1.0,\n",
       " 1.0,\n",
       " 1.0,\n",
       " 1.0,\n",
       " 1.0,\n",
       " 1.0,\n",
       " 1.0,\n",
       " 1.0,\n",
       " 1.0,\n",
       " 1.0,\n",
       " 1.0,\n",
       " 1.0,\n",
       " 1.0,\n",
       " 1.0,\n",
       " 1.0,\n",
       " 1.0,\n",
       " 1.0,\n",
       " 1.0,\n",
       " 1.0,\n",
       " 1.0,\n",
       " 1.0,\n",
       " 1.0,\n",
       " 1.0,\n",
       " 1.0,\n",
       " 1.0,\n",
       " 1.0,\n",
       " 1.0,\n",
       " 1.0,\n",
       " 1.0,\n",
       " 1.0,\n",
       " 1.0,\n",
       " 1.0,\n",
       " 1.0,\n",
       " 1.0,\n",
       " 1.0,\n",
       " 1.0,\n",
       " 1.0,\n",
       " 1.0,\n",
       " 1.0,\n",
       " 1.0,\n",
       " 1.0,\n",
       " 1.0,\n",
       " 1.0,\n",
       " 1.0,\n",
       " 1.0,\n",
       " 1.0,\n",
       " 1.0,\n",
       " 1.0,\n",
       " 1.0,\n",
       " 1.0,\n",
       " 1.0,\n",
       " 1.0,\n",
       " 1.0,\n",
       " 1.0,\n",
       " 1.0,\n",
       " 1.0,\n",
       " 1.0,\n",
       " 1.0,\n",
       " 1.0,\n",
       " 1.0,\n",
       " 1.0,\n",
       " 1.0,\n",
       " 1.0,\n",
       " 1.0,\n",
       " 1.0,\n",
       " 1.0,\n",
       " 1.0,\n",
       " 1.0,\n",
       " 1.0,\n",
       " 1.0,\n",
       " 1.0,\n",
       " 1.0,\n",
       " 2.0,\n",
       " 2.0,\n",
       " 2.0,\n",
       " 2.0,\n",
       " 2.0,\n",
       " 2.0,\n",
       " 3.0,\n",
       " 4.0,\n",
       " 4.0,\n",
       " 4.0,\n",
       " 5.0,\n",
       " 5.0,\n",
       " 5.0,\n",
       " 5.0,\n",
       " 5.0,\n",
       " 5.0,\n",
       " 5.0,\n",
       " 5.0,\n",
       " 5.0,\n",
       " 5.0,\n",
       " 5.0,\n",
       " 5.0,\n",
       " 5.0,\n",
       " 6.0,\n",
       " 6.0,\n",
       " 6.0,\n",
       " 6.0,\n",
       " 6.0,\n",
       " 6.0,\n",
       " 7.0,\n",
       " 7.0,\n",
       " 7.0,\n",
       " 7.0,\n",
       " 8.0,\n",
       " 8.0,\n",
       " 8.0,\n",
       " 9.0,\n",
       " 10.0,\n",
       " 10.0,\n",
       " 10.0,\n",
       " 10.0,\n",
       " 10.0,\n",
       " 10.0,\n",
       " 10.0,\n",
       " 10.0,\n",
       " 10.0,\n",
       " 10.0,\n",
       " 10.0,\n",
       " 10.0,\n",
       " 10.0,\n",
       " 10.0,\n",
       " 10.0,\n",
       " 10.0,\n",
       " 10.0,\n",
       " 10.0,\n",
       " 10.0,\n",
       " 10.0,\n",
       " 10.0,\n",
       " 10.0,\n",
       " 10.0,\n",
       " 10.0,\n",
       " 10.0,\n",
       " 10.0,\n",
       " 10.0,\n",
       " 10.0,\n",
       " 10.0,\n",
       " 10.0,\n",
       " 10.0,\n",
       " 10.0,\n",
       " 10.0,\n",
       " 10.0,\n",
       " 10.0,\n",
       " 10.0,\n",
       " 10.0,\n",
       " 10.0,\n",
       " 10.0,\n",
       " 10.0,\n",
       " 10.0,\n",
       " 10.0,\n",
       " 10.0,\n",
       " 10.0,\n",
       " 10.0,\n",
       " 10.0,\n",
       " 10.0,\n",
       " 10.0,\n",
       " 11.0,\n",
       " 11.0,\n",
       " 11.0,\n",
       " 11.0,\n",
       " 11.0,\n",
       " 11.0,\n",
       " 11.0,\n",
       " 11.0,\n",
       " 11.0,\n",
       " 12.0,\n",
       " 12.0,\n",
       " 12.0,\n",
       " 12.0,\n",
       " 14.0,\n",
       " 14.0,\n",
       " 14.0,\n",
       " 14.0,\n",
       " 15.0,\n",
       " 15.0,\n",
       " 15.0,\n",
       " 15.0,\n",
       " 16.0,\n",
       " 16.0,\n",
       " 16.0,\n",
       " 17.0,\n",
       " 17.0,\n",
       " 19.0,\n",
       " 20.0,\n",
       " 20.0,\n",
       " 22.0,\n",
       " 23.0,\n",
       " 24.0,\n",
       " 26.0,\n",
       " 27.0,\n",
       " 28.0,\n",
       " 28.0,\n",
       " 28.0,\n",
       " 28.0,\n",
       " 28.0,\n",
       " 28.0,\n",
       " 30.0,\n",
       " 30.0,\n",
       " 32.0,\n",
       " 32.0,\n",
       " 32.0,\n",
       " 33.0,\n",
       " 33.0,\n",
       " 34.0,\n",
       " 38.0,\n",
       " 38.0,\n",
       " 38.0,\n",
       " 38.0,\n",
       " 39.0,\n",
       " 39.0,\n",
       " 39.0,\n",
       " 43.0,\n",
       " 43.0,\n",
       " 45.0,\n",
       " 48.0,\n",
       " 48.0,\n",
       " 49.0,\n",
       " 50.0,\n",
       " 50.0,\n",
       " 50.0,\n",
       " 51.0,\n",
       " 56.0,\n",
       " 59.0,\n",
       " 64.0,\n",
       " 64.0,\n",
       " ...]"
      ]
     },
     "execution_count": 15,
     "metadata": {},
     "output_type": "execute_result"
    }
   ],
   "source": [
    "sort_odometer=sorted(df[\"odometer\"])\n",
    "sort_odometer"
   ]
  },
  {
   "cell_type": "code",
   "execution_count": 16,
   "metadata": {
    "execution": {
     "iopub.execute_input": "2023-04-13T10:08:19.527735Z",
     "iopub.status.busy": "2023-04-13T10:08:19.527013Z",
     "iopub.status.idle": "2023-04-13T10:08:19.533058Z",
     "shell.execute_reply": "2023-04-13T10:08:19.532377Z",
     "shell.execute_reply.started": "2023-04-13T09:15:50.539330Z"
    },
    "papermill": {
     "duration": 0.067777,
     "end_time": "2023-04-13T10:08:19.533203",
     "exception": false,
     "start_time": "2023-04-13T10:08:19.465426",
     "status": "completed"
    },
    "tags": []
   },
   "outputs": [
    {
     "data": {
      "text/plain": [
       "1650"
      ]
     },
     "execution_count": 16,
     "metadata": {},
     "output_type": "execute_result"
    }
   ],
   "source": [
    "df[\"odometer\"].isna().sum()"
   ]
  },
  {
   "cell_type": "code",
   "execution_count": 17,
   "metadata": {
    "execution": {
     "iopub.execute_input": "2023-04-13T10:08:19.657577Z",
     "iopub.status.busy": "2023-04-13T10:08:19.655990Z",
     "iopub.status.idle": "2023-04-13T10:08:20.649566Z",
     "shell.execute_reply": "2023-04-13T10:08:20.650113Z",
     "shell.execute_reply.started": "2023-04-13T09:15:50.551832Z"
    },
    "papermill": {
     "duration": 1.058428,
     "end_time": "2023-04-13T10:08:20.650293",
     "exception": false,
     "start_time": "2023-04-13T10:08:19.591865",
     "status": "completed"
    },
    "tags": []
   },
   "outputs": [
    {
     "data": {
      "image/png": "[encoded data removed]",
      "text/plain": [
       "<Figure size 432x288 with 1 Axes>"
      ]
     },
     "metadata": {},
     "output_type": "display_data"
    }
   ],
   "source": [
    "ax = sns.scatterplot(x=\"odometer\", y=\"price\", data=df)"
   ]
  },
  {
   "cell_type": "code",
   "execution_count": 18,
   "metadata": {
    "execution": {
     "iopub.execute_input": "2023-04-13T10:08:20.771273Z",
     "iopub.status.busy": "2023-04-13T10:08:20.769430Z",
     "iopub.status.idle": "2023-04-13T10:08:20.776821Z",
     "shell.execute_reply": "2023-04-13T10:08:20.777443Z",
     "shell.execute_reply.started": "2023-04-13T09:15:51.555327Z"
    },
    "papermill": {
     "duration": 0.069437,
     "end_time": "2023-04-13T10:08:20.777662",
     "exception": false,
     "start_time": "2023-04-13T10:08:20.708225",
     "status": "completed"
    },
    "tags": []
   },
   "outputs": [
    {
     "data": {
      "text/plain": [
       "10000000.0"
      ]
     },
     "execution_count": 18,
     "metadata": {},
     "output_type": "execute_result"
    }
   ],
   "source": [
    "df[\"odometer\"].max()"
   ]
  },
  {
   "cell_type": "code",
   "execution_count": 19,
   "metadata": {
    "execution": {
     "iopub.execute_input": "2023-04-13T10:08:20.895800Z",
     "iopub.status.busy": "2023-04-13T10:08:20.895119Z",
     "iopub.status.idle": "2023-04-13T10:08:21.023666Z",
     "shell.execute_reply": "2023-04-13T10:08:21.024235Z",
     "shell.execute_reply.started": "2023-04-13T09:15:51.564083Z"
    },
    "papermill": {
     "duration": 0.189122,
     "end_time": "2023-04-13T10:08:21.024423",
     "exception": false,
     "start_time": "2023-04-13T10:08:20.835301",
     "status": "completed"
    },
    "tags": []
   },
   "outputs": [],
   "source": [
    "df.drop(df[df[\"odometer\"]==64809218.0].index,inplace=True)"
   ]
  },
  {
   "cell_type": "code",
   "execution_count": 20,
   "metadata": {
    "execution": {
     "iopub.execute_input": "2023-04-13T10:08:21.145782Z",
     "iopub.status.busy": "2023-04-13T10:08:21.145070Z",
     "iopub.status.idle": "2023-04-13T10:08:21.236302Z",
     "shell.execute_reply": "2023-04-13T10:08:21.236956Z",
     "shell.execute_reply.started": "2023-04-13T09:15:51.691436Z"
    },
    "papermill": {
     "duration": 0.153581,
     "end_time": "2023-04-13T10:08:21.237152",
     "exception": false,
     "start_time": "2023-04-13T10:08:21.083571",
     "status": "completed"
    },
    "tags": []
   },
   "outputs": [],
   "source": [
    "df.drop(df[df[\"odometer\"]==0.0].index,inplace=True)"
   ]
  },
  {
   "cell_type": "code",
   "execution_count": 21,
   "metadata": {
    "execution": {
     "iopub.execute_input": "2023-04-13T10:08:21.364250Z",
     "iopub.status.busy": "2023-04-13T10:08:21.362769Z",
     "iopub.status.idle": "2023-04-13T10:08:22.231612Z",
     "shell.execute_reply": "2023-04-13T10:08:22.230863Z",
     "shell.execute_reply.started": "2023-04-13T09:15:51.787490Z"
    },
    "papermill": {
     "duration": 0.934749,
     "end_time": "2023-04-13T10:08:22.231806",
     "exception": false,
     "start_time": "2023-04-13T10:08:21.297057",
     "status": "completed"
    },
    "tags": []
   },
   "outputs": [
    {
     "data": {
      "image/png": "[encoded data removed]",
      "text/plain": [
       "<Figure size 432x288 with 1 Axes>"
      ]
     },
     "metadata": {},
     "output_type": "display_data"
    }
   ],
   "source": [
    "ax = sns.scatterplot(x=\"odometer\", y=\"price\", data=df)\n",
    "ax.get_xaxis().get_major_formatter().set_scientific(False)\n",
    "ax.get_yaxis().get_major_formatter().set_scientific(False)"
   ]
  },
  {
   "cell_type": "code",
   "execution_count": 22,
   "metadata": {
    "execution": {
     "iopub.execute_input": "2023-04-13T10:08:22.362372Z",
     "iopub.status.busy": "2023-04-13T10:08:22.361327Z",
     "iopub.status.idle": "2023-04-13T10:08:22.368130Z",
     "shell.execute_reply": "2023-04-13T10:08:22.367503Z",
     "shell.execute_reply.started": "2023-04-13T09:15:52.674008Z"
    },
    "papermill": {
     "duration": 0.075324,
     "end_time": "2023-04-13T10:08:22.368259",
     "exception": false,
     "start_time": "2023-04-13T10:08:22.292935",
     "status": "completed"
    },
    "tags": []
   },
   "outputs": [
    {
     "data": {
      "text/plain": [
       "1650"
      ]
     },
     "execution_count": 22,
     "metadata": {},
     "output_type": "execute_result"
    }
   ],
   "source": [
    "df[\"odometer\"].isna().sum()"
   ]
  },
  {
   "cell_type": "code",
   "execution_count": 23,
   "metadata": {
    "execution": {
     "iopub.execute_input": "2023-04-13T10:08:22.497171Z",
     "iopub.status.busy": "2023-04-13T10:08:22.496423Z",
     "iopub.status.idle": "2023-04-13T10:08:22.580309Z",
     "shell.execute_reply": "2023-04-13T10:08:22.580901Z",
     "shell.execute_reply.started": "2023-04-13T09:15:52.683951Z"
    },
    "papermill": {
     "duration": 0.147543,
     "end_time": "2023-04-13T10:08:22.581077",
     "exception": false,
     "start_time": "2023-04-13T10:08:22.433534",
     "status": "completed"
    },
    "tags": []
   },
   "outputs": [],
   "source": [
    "df=df[(df.odometer < 3000000)]"
   ]
  },
  {
   "cell_type": "code",
   "execution_count": 24,
   "metadata": {
    "execution": {
     "iopub.execute_input": "2023-04-13T10:08:22.704606Z",
     "iopub.status.busy": "2023-04-13T10:08:22.703921Z",
     "iopub.status.idle": "2023-04-13T10:08:23.610140Z",
     "shell.execute_reply": "2023-04-13T10:08:23.609501Z",
     "shell.execute_reply.started": "2023-04-13T09:15:52.769914Z"
    },
    "papermill": {
     "duration": 0.969155,
     "end_time": "2023-04-13T10:08:23.610286",
     "exception": false,
     "start_time": "2023-04-13T10:08:22.641131",
     "status": "completed"
    },
    "tags": []
   },
   "outputs": [
    {
     "data": {
      "image/png": "[encoded data removed]",
      "text/plain": [
       "<Figure size 432x288 with 1 Axes>"
      ]
     },
     "metadata": {},
     "output_type": "display_data"
    }
   ],
   "source": [
    "ax = sns.scatterplot(x=\"odometer\", y=\"price\", data=df)\n",
    "ax.get_xaxis().get_major_formatter().set_scientific(False)"
   ]
  },
  {
   "cell_type": "code",
   "execution_count": 25,
   "metadata": {
    "execution": {
     "iopub.execute_input": "2023-04-13T10:08:23.746317Z",
     "iopub.status.busy": "2023-04-13T10:08:23.745631Z",
     "iopub.status.idle": "2023-04-13T10:08:23.750311Z",
     "shell.execute_reply": "2023-04-13T10:08:23.750851Z",
     "shell.execute_reply.started": "2023-04-13T09:15:53.660403Z"
    },
    "papermill": {
     "duration": 0.07515,
     "end_time": "2023-04-13T10:08:23.751044",
     "exception": false,
     "start_time": "2023-04-13T10:08:23.675894",
     "status": "completed"
    },
    "tags": []
   },
   "outputs": [
    {
     "data": {
      "text/plain": [
       "0"
      ]
     },
     "execution_count": 25,
     "metadata": {},
     "output_type": "execute_result"
    }
   ],
   "source": [
    "df[\"odometer\"].isna().sum()"
   ]
  },
  {
   "cell_type": "code",
   "execution_count": 26,
   "metadata": {
    "execution": {
     "iopub.execute_input": "2023-04-13T10:08:23.885282Z",
     "iopub.status.busy": "2023-04-13T10:08:23.884592Z",
     "iopub.status.idle": "2023-04-13T10:08:23.890692Z",
     "shell.execute_reply": "2023-04-13T10:08:23.890124Z",
     "shell.execute_reply.started": "2023-04-13T09:15:53.671656Z"
    },
    "papermill": {
     "duration": 0.075846,
     "end_time": "2023-04-13T10:08:23.890842",
     "exception": false,
     "start_time": "2023-04-13T10:08:23.814996",
     "status": "completed"
    },
    "tags": []
   },
   "outputs": [
    {
     "data": {
      "text/plain": [
       "339"
      ]
     },
     "execution_count": 26,
     "metadata": {},
     "output_type": "execute_result"
    }
   ],
   "source": [
    "df[\"year\"].isna().sum()"
   ]
  },
  {
   "cell_type": "code",
   "execution_count": 27,
   "metadata": {
    "execution": {
     "iopub.execute_input": "2023-04-13T10:08:24.023391Z",
     "iopub.status.busy": "2023-04-13T10:08:24.022638Z",
     "iopub.status.idle": "2023-04-13T10:08:24.027589Z",
     "shell.execute_reply": "2023-04-13T10:08:24.027004Z",
     "shell.execute_reply.started": "2023-04-13T09:15:53.684421Z"
    },
    "papermill": {
     "duration": 0.073454,
     "end_time": "2023-04-13T10:08:24.027738",
     "exception": false,
     "start_time": "2023-04-13T10:08:23.954284",
     "status": "completed"
    },
    "tags": []
   },
   "outputs": [
    {
     "data": {
      "text/plain": [
       "1900.0"
      ]
     },
     "execution_count": 27,
     "metadata": {},
     "output_type": "execute_result"
    }
   ],
   "source": [
    "df[\"year\"].min()"
   ]
  },
  {
   "cell_type": "code",
   "execution_count": 28,
   "metadata": {
    "execution": {
     "iopub.execute_input": "2023-04-13T10:08:24.155902Z",
     "iopub.status.busy": "2023-04-13T10:08:24.155251Z",
     "iopub.status.idle": "2023-04-13T10:08:24.247773Z",
     "shell.execute_reply": "2023-04-13T10:08:24.247039Z",
     "shell.execute_reply.started": "2023-04-13T09:15:53.695986Z"
    },
    "papermill": {
     "duration": 0.157103,
     "end_time": "2023-04-13T10:08:24.247915",
     "exception": false,
     "start_time": "2023-04-13T10:08:24.090812",
     "status": "completed"
    },
    "tags": []
   },
   "outputs": [],
   "source": [
    "df.drop(df[df[\"year\"]==0.0].index,inplace=True)"
   ]
  },
  {
   "cell_type": "code",
   "execution_count": 29,
   "metadata": {
    "execution": {
     "iopub.execute_input": "2023-04-13T10:08:24.379788Z",
     "iopub.status.busy": "2023-04-13T10:08:24.379115Z",
     "iopub.status.idle": "2023-04-13T10:08:24.456184Z",
     "shell.execute_reply": "2023-04-13T10:08:24.455597Z",
     "shell.execute_reply.started": "2023-04-13T09:15:53.776667Z"
    },
    "papermill": {
     "duration": 0.146567,
     "end_time": "2023-04-13T10:08:24.456306",
     "exception": false,
     "start_time": "2023-04-13T10:08:24.309739",
     "status": "completed"
    },
    "tags": []
   },
   "outputs": [],
   "source": [
    "df=df.dropna(subset=['year'])"
   ]
  },
  {
   "cell_type": "code",
   "execution_count": 30,
   "metadata": {
    "execution": {
     "iopub.execute_input": "2023-04-13T10:08:24.586749Z",
     "iopub.status.busy": "2023-04-13T10:08:24.586073Z",
     "iopub.status.idle": "2023-04-13T10:08:25.504788Z",
     "shell.execute_reply": "2023-04-13T10:08:25.505336Z",
     "shell.execute_reply.started": "2023-04-13T09:15:53.848412Z"
    },
    "papermill": {
     "duration": 0.987349,
     "end_time": "2023-04-13T10:08:25.505502",
     "exception": false,
     "start_time": "2023-04-13T10:08:24.518153",
     "status": "completed"
    },
    "tags": []
   },
   "outputs": [
    {
     "data": {
      "image/png": "[encoded data removed]",
      "text/plain": [
       "<Figure size 432x288 with 1 Axes>"
      ]
     },
     "metadata": {},
     "output_type": "display_data"
    }
   ],
   "source": [
    "bx = sns.scatterplot(x=\"year\", y=\"price\", data=df)"
   ]
  },
  {
   "cell_type": "code",
   "execution_count": 31,
   "metadata": {
    "execution": {
     "iopub.execute_input": "2023-04-13T10:08:25.642263Z",
     "iopub.status.busy": "2023-04-13T10:08:25.639636Z",
     "iopub.status.idle": "2023-04-13T10:08:25.716432Z",
     "shell.execute_reply": "2023-04-13T10:08:25.716991Z",
     "shell.execute_reply.started": "2023-04-13T09:15:54.761285Z"
    },
    "papermill": {
     "duration": 0.145586,
     "end_time": "2023-04-13T10:08:25.717150",
     "exception": false,
     "start_time": "2023-04-13T10:08:25.571564",
     "status": "completed"
    },
    "tags": []
   },
   "outputs": [],
   "source": [
    "df=df[(df.year > 1940)]"
   ]
  },
  {
   "cell_type": "code",
   "execution_count": 32,
   "metadata": {
    "execution": {
     "iopub.execute_input": "2023-04-13T10:08:25.850018Z",
     "iopub.status.busy": "2023-04-13T10:08:25.849302Z",
     "iopub.status.idle": "2023-04-13T10:08:26.051486Z",
     "shell.execute_reply": "2023-04-13T10:08:26.052037Z",
     "shell.execute_reply.started": "2023-04-13T09:15:54.838666Z"
    },
    "papermill": {
     "duration": 0.270612,
     "end_time": "2023-04-13T10:08:26.052230",
     "exception": false,
     "start_time": "2023-04-13T10:08:25.781618",
     "status": "completed"
    },
    "tags": []
   },
   "outputs": [
    {
     "data": {
      "text/html": [
       "<div>\n",
       "<style scoped>\n",
       "    .dataframe tbody tr th:only-of-type {\n",
       "        vertical-align: middle;\n",
       "    }\n",
       "\n",
       "    .dataframe tbody tr th {\n",
       "        vertical-align: top;\n",
       "    }\n",
       "\n",
       "    .dataframe thead th {\n",
       "        text-align: right;\n",
       "    }\n",
       "</style>\n",
       "<table border=\"1\" class=\"dataframe\">\n",
       "  <thead>\n",
       "    <tr style=\"text-align: right;\">\n",
       "      <th></th>\n",
       "      <th>null</th>\n",
       "      <th>percent</th>\n",
       "    </tr>\n",
       "  </thead>\n",
       "  <tbody>\n",
       "    <tr>\n",
       "      <th>size</th>\n",
       "      <td>18943200</td>\n",
       "      <td>67.281</td>\n",
       "    </tr>\n",
       "    <tr>\n",
       "      <th>cylinders</th>\n",
       "      <td>10940000</td>\n",
       "      <td>38.856</td>\n",
       "    </tr>\n",
       "    <tr>\n",
       "      <th>condition</th>\n",
       "      <td>10460200</td>\n",
       "      <td>37.152</td>\n",
       "    </tr>\n",
       "    <tr>\n",
       "      <th>drive</th>\n",
       "      <td>8438300</td>\n",
       "      <td>29.970</td>\n",
       "    </tr>\n",
       "    <tr>\n",
       "      <th>paint_color</th>\n",
       "      <td>8380200</td>\n",
       "      <td>29.764</td>\n",
       "    </tr>\n",
       "    <tr>\n",
       "      <th>type</th>\n",
       "      <td>6646900</td>\n",
       "      <td>23.608</td>\n",
       "    </tr>\n",
       "    <tr>\n",
       "      <th>manufacturer</th>\n",
       "      <td>1046100</td>\n",
       "      <td>3.715</td>\n",
       "    </tr>\n",
       "    <tr>\n",
       "      <th>title_status</th>\n",
       "      <td>514300</td>\n",
       "      <td>1.827</td>\n",
       "    </tr>\n",
       "    <tr>\n",
       "      <th>model</th>\n",
       "      <td>334100</td>\n",
       "      <td>1.187</td>\n",
       "    </tr>\n",
       "    <tr>\n",
       "      <th>fuel</th>\n",
       "      <td>164100</td>\n",
       "      <td>0.583</td>\n",
       "    </tr>\n",
       "    <tr>\n",
       "      <th>transmission</th>\n",
       "      <td>110400</td>\n",
       "      <td>0.392</td>\n",
       "    </tr>\n",
       "    <tr>\n",
       "      <th>price</th>\n",
       "      <td>0</td>\n",
       "      <td>0.000</td>\n",
       "    </tr>\n",
       "    <tr>\n",
       "      <th>year</th>\n",
       "      <td>0</td>\n",
       "      <td>0.000</td>\n",
       "    </tr>\n",
       "    <tr>\n",
       "      <th>odometer</th>\n",
       "      <td>0</td>\n",
       "      <td>0.000</td>\n",
       "    </tr>\n",
       "    <tr>\n",
       "      <th>state</th>\n",
       "      <td>0</td>\n",
       "      <td>0.000</td>\n",
       "    </tr>\n",
       "    <tr>\n",
       "      <th>posting_date</th>\n",
       "      <td>0</td>\n",
       "      <td>0.000</td>\n",
       "    </tr>\n",
       "  </tbody>\n",
       "</table>\n",
       "</div>"
      ],
      "text/plain": [
       "                  null  percent\n",
       "size          18943200   67.281\n",
       "cylinders     10940000   38.856\n",
       "condition     10460200   37.152\n",
       "drive          8438300   29.970\n",
       "paint_color    8380200   29.764\n",
       "type           6646900   23.608\n",
       "manufacturer   1046100    3.715\n",
       "title_status    514300    1.827\n",
       "model           334100    1.187\n",
       "fuel            164100    0.583\n",
       "transmission    110400    0.392\n",
       "price                0    0.000\n",
       "year                 0    0.000\n",
       "odometer             0    0.000\n",
       "state                0    0.000\n",
       "posting_date         0    0.000"
      ]
     },
     "execution_count": 32,
     "metadata": {},
     "output_type": "execute_result"
    }
   ],
   "source": [
    "null_values=df.isnull().sum()\n",
    "null_values=pd.DataFrame(null_values,columns=['null'])\n",
    "j=1\n",
    "sum_tot=len(df)\n",
    "null_values['percent']=null_values['null']/sum_tot\n",
    "round(null_values*100,3).sort_values('percent',ascending=False)"
   ]
  },
  {
   "cell_type": "code",
   "execution_count": 33,
   "metadata": {
    "execution": {
     "iopub.execute_input": "2023-04-13T10:08:26.189929Z",
     "iopub.status.busy": "2023-04-13T10:08:26.188934Z",
     "iopub.status.idle": "2023-04-13T10:08:26.229980Z",
     "shell.execute_reply": "2023-04-13T10:08:26.230471Z",
     "shell.execute_reply.started": "2023-04-13T09:15:55.038667Z"
    },
    "papermill": {
     "duration": 0.110871,
     "end_time": "2023-04-13T10:08:26.230684",
     "exception": false,
     "start_time": "2023-04-13T10:08:26.119813",
     "status": "completed"
    },
    "tags": []
   },
   "outputs": [
    {
     "data": {
      "text/plain": [
       "excellent    77753\n",
       "good         76688\n",
       "like new     14909\n",
       "fair          6494\n",
       "new            573\n",
       "salvage        536\n",
       "Name: condition, dtype: int64"
      ]
     },
     "execution_count": 33,
     "metadata": {},
     "output_type": "execute_result"
    }
   ],
   "source": [
    "df.condition.value_counts()"
   ]
  },
  {
   "cell_type": "code",
   "execution_count": 34,
   "metadata": {
    "execution": {
     "iopub.execute_input": "2023-04-13T10:08:26.370013Z",
     "iopub.status.busy": "2023-04-13T10:08:26.369003Z",
     "iopub.status.idle": "2023-04-13T10:08:26.530355Z",
     "shell.execute_reply": "2023-04-13T10:08:26.529578Z",
     "shell.execute_reply.started": "2023-04-13T09:15:55.077251Z"
    },
    "papermill": {
     "duration": 0.231777,
     "end_time": "2023-04-13T10:08:26.530489",
     "exception": false,
     "start_time": "2023-04-13T10:08:26.298712",
     "status": "completed"
    },
    "tags": []
   },
   "outputs": [],
   "source": [
    "excellent_odo_mean = df[df['condition'] == 'excellent']['odometer'].mean()\n",
    "good_odo_mean = df[df['condition'] == 'good']['odometer'].mean()\n",
    "like_new_odo_mean = df[df['condition'] == 'like new']['odometer'].mean()\n",
    "salvage_odo_mean = df[df['condition'] == 'salvage']['odometer'].mean()\n",
    "fair_odo_mean = df[df['condition'] == 'fair']['odometer'].mean()"
   ]
  },
  {
   "cell_type": "code",
   "execution_count": 35,
   "metadata": {
    "execution": {
     "iopub.execute_input": "2023-04-13T10:08:26.668735Z",
     "iopub.status.busy": "2023-04-13T10:08:26.667717Z",
     "iopub.status.idle": "2023-04-13T10:08:26.675843Z",
     "shell.execute_reply": "2023-04-13T10:08:26.676357Z",
     "shell.execute_reply.started": "2023-04-13T09:15:55.252585Z"
    },
    "papermill": {
     "duration": 0.080667,
     "end_time": "2023-04-13T10:08:26.676518",
     "exception": false,
     "start_time": "2023-04-13T10:08:26.595851",
     "status": "completed"
    },
    "tags": []
   },
   "outputs": [
    {
     "name": "stdout",
     "output_type": "stream",
     "text": [
      "Like new average odometer: 93809.59\n",
      "Excellent average odometer: 114903.02\n",
      "Good average odometer: 105998.14\n",
      "Fair average odometer: 175931.82\n",
      "Salvage average odometer: 168803.65\n"
     ]
    }
   ],
   "source": [
    "print('Like new average odometer:', round( like_new_odo_mean,2))\n",
    "print('Excellent average odometer:', round( excellent_odo_mean,2))\n",
    "print('Good average odometer:', round( good_odo_mean,2))\n",
    "print('Fair average odometer:', round( fair_odo_mean,2))\n",
    "print('Salvage average odometer:', round( salvage_odo_mean,2))"
   ]
  },
  {
   "cell_type": "code",
   "execution_count": 36,
   "metadata": {
    "execution": {
     "iopub.execute_input": "2023-04-13T10:08:26.817343Z",
     "iopub.status.busy": "2023-04-13T10:08:26.816648Z",
     "iopub.status.idle": "2023-04-13T10:08:26.835506Z",
     "shell.execute_reply": "2023-04-13T10:08:26.834879Z",
     "shell.execute_reply.started": "2023-04-13T09:15:55.264210Z"
    },
    "papermill": {
     "duration": 0.090264,
     "end_time": "2023-04-13T10:08:26.835664",
     "exception": false,
     "start_time": "2023-04-13T10:08:26.745400",
     "status": "completed"
    },
    "tags": []
   },
   "outputs": [],
   "source": [
    "df.loc[df.year>=2019, 'condition'] = df.loc[df.year>=2019, 'condition'].fillna('new')"
   ]
  },
  {
   "cell_type": "code",
   "execution_count": 37,
   "metadata": {
    "execution": {
     "iopub.execute_input": "2023-04-13T10:08:26.977264Z",
     "iopub.status.busy": "2023-04-13T10:08:26.976217Z",
     "iopub.status.idle": "2023-04-13T10:08:27.101815Z",
     "shell.execute_reply": "2023-04-13T10:08:27.101141Z",
     "shell.execute_reply.started": "2023-04-13T09:15:55.287953Z"
    },
    "papermill": {
     "duration": 0.197587,
     "end_time": "2023-04-13T10:08:27.101964",
     "exception": false,
     "start_time": "2023-04-13T10:08:26.904377",
     "status": "completed"
    },
    "tags": []
   },
   "outputs": [],
   "source": [
    "df.loc[df['odometer'] <= like_new_odo_mean, 'condition'] = df.loc[df['odometer'] <= like_new_odo_mean, 'condition'].fillna('like new')\n",
    "\n",
    "df.loc[df['odometer'] >= fair_odo_mean, 'condition'] = df.loc[df['odometer'] >= fair_odo_mean, 'condition'].fillna('fair')\n",
    "\n",
    "df.loc[((df['odometer'] > good_odo_mean) & \n",
    "       (df['odometer'] <= excellent_odo_mean)), 'condition'] = df.loc[((df['odometer'] > good_odo_mean) & \n",
    "       (df['odometer'] <= excellent_odo_mean)), 'condition'].fillna('excellent')\n",
    "\n",
    "df.loc[((df['odometer'] > like_new_odo_mean) & \n",
    "       (df['odometer'] <= good_odo_mean)), 'condition'] = df.loc[((df['odometer'] > like_new_odo_mean) & \n",
    "       (df['odometer'] <= good_odo_mean)), 'condition'].fillna('good')\n",
    "\n",
    "df.loc[((df['odometer'] > good_odo_mean) & \n",
    "       (df['odometer'] <= fair_odo_mean)), 'condition'] = df.loc[((df['odometer'] > good_odo_mean) & \n",
    "       (df['odometer'] <= fair_odo_mean)), 'condition'].fillna('salvage')"
   ]
  },
  {
   "cell_type": "code",
   "execution_count": 38,
   "metadata": {
    "execution": {
     "iopub.execute_input": "2023-04-13T10:08:27.294214Z",
     "iopub.status.busy": "2023-04-13T10:08:27.293158Z",
     "iopub.status.idle": "2023-04-13T10:08:27.470300Z",
     "shell.execute_reply": "2023-04-13T10:08:27.470829Z",
     "shell.execute_reply.started": "2023-04-13T09:15:55.403942Z"
    },
    "papermill": {
     "duration": 0.246918,
     "end_time": "2023-04-13T10:08:27.471002",
     "exception": false,
     "start_time": "2023-04-13T10:08:27.224084",
     "status": "completed"
    },
    "tags": []
   },
   "outputs": [
    {
     "data": {
      "text/html": [
       "<div>\n",
       "<style scoped>\n",
       "    .dataframe tbody tr th:only-of-type {\n",
       "        vertical-align: middle;\n",
       "    }\n",
       "\n",
       "    .dataframe tbody tr th {\n",
       "        vertical-align: top;\n",
       "    }\n",
       "\n",
       "    .dataframe thead th {\n",
       "        text-align: right;\n",
       "    }\n",
       "</style>\n",
       "<table border=\"1\" class=\"dataframe\">\n",
       "  <thead>\n",
       "    <tr style=\"text-align: right;\">\n",
       "      <th></th>\n",
       "      <th>null</th>\n",
       "      <th>percent</th>\n",
       "    </tr>\n",
       "  </thead>\n",
       "  <tbody>\n",
       "    <tr>\n",
       "      <th>size</th>\n",
       "      <td>18943200</td>\n",
       "      <td>67.281</td>\n",
       "    </tr>\n",
       "    <tr>\n",
       "      <th>cylinders</th>\n",
       "      <td>10940000</td>\n",
       "      <td>38.856</td>\n",
       "    </tr>\n",
       "    <tr>\n",
       "      <th>drive</th>\n",
       "      <td>8438300</td>\n",
       "      <td>29.970</td>\n",
       "    </tr>\n",
       "    <tr>\n",
       "      <th>paint_color</th>\n",
       "      <td>8380200</td>\n",
       "      <td>29.764</td>\n",
       "    </tr>\n",
       "    <tr>\n",
       "      <th>type</th>\n",
       "      <td>6646900</td>\n",
       "      <td>23.608</td>\n",
       "    </tr>\n",
       "    <tr>\n",
       "      <th>manufacturer</th>\n",
       "      <td>1046100</td>\n",
       "      <td>3.715</td>\n",
       "    </tr>\n",
       "    <tr>\n",
       "      <th>title_status</th>\n",
       "      <td>514300</td>\n",
       "      <td>1.827</td>\n",
       "    </tr>\n",
       "    <tr>\n",
       "      <th>model</th>\n",
       "      <td>334100</td>\n",
       "      <td>1.187</td>\n",
       "    </tr>\n",
       "    <tr>\n",
       "      <th>fuel</th>\n",
       "      <td>164100</td>\n",
       "      <td>0.583</td>\n",
       "    </tr>\n",
       "    <tr>\n",
       "      <th>transmission</th>\n",
       "      <td>110400</td>\n",
       "      <td>0.392</td>\n",
       "    </tr>\n",
       "    <tr>\n",
       "      <th>price</th>\n",
       "      <td>0</td>\n",
       "      <td>0.000</td>\n",
       "    </tr>\n",
       "    <tr>\n",
       "      <th>year</th>\n",
       "      <td>0</td>\n",
       "      <td>0.000</td>\n",
       "    </tr>\n",
       "    <tr>\n",
       "      <th>condition</th>\n",
       "      <td>0</td>\n",
       "      <td>0.000</td>\n",
       "    </tr>\n",
       "    <tr>\n",
       "      <th>odometer</th>\n",
       "      <td>0</td>\n",
       "      <td>0.000</td>\n",
       "    </tr>\n",
       "    <tr>\n",
       "      <th>state</th>\n",
       "      <td>0</td>\n",
       "      <td>0.000</td>\n",
       "    </tr>\n",
       "    <tr>\n",
       "      <th>posting_date</th>\n",
       "      <td>0</td>\n",
       "      <td>0.000</td>\n",
       "    </tr>\n",
       "  </tbody>\n",
       "</table>\n",
       "</div>"
      ],
      "text/plain": [
       "                  null  percent\n",
       "size          18943200   67.281\n",
       "cylinders     10940000   38.856\n",
       "drive          8438300   29.970\n",
       "paint_color    8380200   29.764\n",
       "type           6646900   23.608\n",
       "manufacturer   1046100    3.715\n",
       "title_status    514300    1.827\n",
       "model           334100    1.187\n",
       "fuel            164100    0.583\n",
       "transmission    110400    0.392\n",
       "price                0    0.000\n",
       "year                 0    0.000\n",
       "condition            0    0.000\n",
       "odometer             0    0.000\n",
       "state                0    0.000\n",
       "posting_date         0    0.000"
      ]
     },
     "execution_count": 38,
     "metadata": {},
     "output_type": "execute_result"
    }
   ],
   "source": [
    "null_values=df.isnull().sum()\n",
    "null_values=pd.DataFrame(null_values,columns=['null'])\n",
    "j=1\n",
    "sum_tot=len(df)\n",
    "null_values['percent']=null_values['null']/sum_tot\n",
    "round(null_values*100,3).sort_values('percent',ascending=False)"
   ]
  },
  {
   "cell_type": "code",
   "execution_count": 39,
   "metadata": {
    "execution": {
     "iopub.execute_input": "2023-04-13T10:08:27.611820Z",
     "iopub.status.busy": "2023-04-13T10:08:27.610391Z",
     "iopub.status.idle": "2023-04-13T10:08:27.750731Z",
     "shell.execute_reply": "2023-04-13T10:08:27.749771Z",
     "shell.execute_reply.started": "2023-04-13T09:15:55.582713Z"
    },
    "papermill": {
     "duration": 0.21377,
     "end_time": "2023-04-13T10:08:27.750878",
     "exception": false,
     "start_time": "2023-04-13T10:08:27.537108",
     "status": "completed"
    },
    "tags": []
   },
   "outputs": [],
   "source": [
    "df=df.dropna(subset=['title_status','fuel','transmission','model','manufacturer'])"
   ]
  },
  {
   "cell_type": "code",
   "execution_count": 40,
   "metadata": {
    "execution": {
     "iopub.execute_input": "2023-04-13T10:08:27.895375Z",
     "iopub.status.busy": "2023-04-13T10:08:27.893822Z",
     "iopub.status.idle": "2023-04-13T10:08:27.936521Z",
     "shell.execute_reply": "2023-04-13T10:08:27.935805Z",
     "shell.execute_reply.started": "2023-04-13T09:15:55.727833Z"
    },
    "papermill": {
     "duration": 0.117506,
     "end_time": "2023-04-13T10:08:27.936682",
     "exception": false,
     "start_time": "2023-04-13T10:08:27.819176",
     "status": "completed"
    },
    "tags": []
   },
   "outputs": [],
   "source": [
    "df=df.drop([\"size\"],axis=1)"
   ]
  },
  {
   "cell_type": "code",
   "execution_count": 41,
   "metadata": {
    "execution": {
     "iopub.execute_input": "2023-04-13T10:08:28.079019Z",
     "iopub.status.busy": "2023-04-13T10:08:28.078144Z",
     "iopub.status.idle": "2023-04-13T10:08:28.229475Z",
     "shell.execute_reply": "2023-04-13T10:08:28.228790Z",
     "shell.execute_reply.started": "2023-04-13T09:15:55.777891Z"
    },
    "papermill": {
     "duration": 0.224702,
     "end_time": "2023-04-13T10:08:28.229647",
     "exception": false,
     "start_time": "2023-04-13T10:08:28.004945",
     "status": "completed"
    },
    "tags": []
   },
   "outputs": [
    {
     "data": {
      "text/html": [
       "<div>\n",
       "<style scoped>\n",
       "    .dataframe tbody tr th:only-of-type {\n",
       "        vertical-align: middle;\n",
       "    }\n",
       "\n",
       "    .dataframe tbody tr th {\n",
       "        vertical-align: top;\n",
       "    }\n",
       "\n",
       "    .dataframe thead th {\n",
       "        text-align: right;\n",
       "    }\n",
       "</style>\n",
       "<table border=\"1\" class=\"dataframe\">\n",
       "  <thead>\n",
       "    <tr style=\"text-align: right;\">\n",
       "      <th></th>\n",
       "      <th>null</th>\n",
       "      <th>percent</th>\n",
       "    </tr>\n",
       "  </thead>\n",
       "  <tbody>\n",
       "    <tr>\n",
       "      <th>cylinders</th>\n",
       "      <td>10100400</td>\n",
       "      <td>38.766</td>\n",
       "    </tr>\n",
       "    <tr>\n",
       "      <th>drive</th>\n",
       "      <td>7547200</td>\n",
       "      <td>28.967</td>\n",
       "    </tr>\n",
       "    <tr>\n",
       "      <th>paint_color</th>\n",
       "      <td>7398000</td>\n",
       "      <td>28.394</td>\n",
       "    </tr>\n",
       "    <tr>\n",
       "      <th>type</th>\n",
       "      <td>6068900</td>\n",
       "      <td>23.293</td>\n",
       "    </tr>\n",
       "    <tr>\n",
       "      <th>price</th>\n",
       "      <td>0</td>\n",
       "      <td>0.000</td>\n",
       "    </tr>\n",
       "    <tr>\n",
       "      <th>year</th>\n",
       "      <td>0</td>\n",
       "      <td>0.000</td>\n",
       "    </tr>\n",
       "    <tr>\n",
       "      <th>manufacturer</th>\n",
       "      <td>0</td>\n",
       "      <td>0.000</td>\n",
       "    </tr>\n",
       "    <tr>\n",
       "      <th>model</th>\n",
       "      <td>0</td>\n",
       "      <td>0.000</td>\n",
       "    </tr>\n",
       "    <tr>\n",
       "      <th>condition</th>\n",
       "      <td>0</td>\n",
       "      <td>0.000</td>\n",
       "    </tr>\n",
       "    <tr>\n",
       "      <th>fuel</th>\n",
       "      <td>0</td>\n",
       "      <td>0.000</td>\n",
       "    </tr>\n",
       "    <tr>\n",
       "      <th>odometer</th>\n",
       "      <td>0</td>\n",
       "      <td>0.000</td>\n",
       "    </tr>\n",
       "    <tr>\n",
       "      <th>title_status</th>\n",
       "      <td>0</td>\n",
       "      <td>0.000</td>\n",
       "    </tr>\n",
       "    <tr>\n",
       "      <th>transmission</th>\n",
       "      <td>0</td>\n",
       "      <td>0.000</td>\n",
       "    </tr>\n",
       "    <tr>\n",
       "      <th>state</th>\n",
       "      <td>0</td>\n",
       "      <td>0.000</td>\n",
       "    </tr>\n",
       "    <tr>\n",
       "      <th>posting_date</th>\n",
       "      <td>0</td>\n",
       "      <td>0.000</td>\n",
       "    </tr>\n",
       "  </tbody>\n",
       "</table>\n",
       "</div>"
      ],
      "text/plain": [
       "                  null  percent\n",
       "cylinders     10100400   38.766\n",
       "drive          7547200   28.967\n",
       "paint_color    7398000   28.394\n",
       "type           6068900   23.293\n",
       "price                0    0.000\n",
       "year                 0    0.000\n",
       "manufacturer         0    0.000\n",
       "model                0    0.000\n",
       "condition            0    0.000\n",
       "fuel                 0    0.000\n",
       "odometer             0    0.000\n",
       "title_status         0    0.000\n",
       "transmission         0    0.000\n",
       "state                0    0.000\n",
       "posting_date         0    0.000"
      ]
     },
     "execution_count": 41,
     "metadata": {},
     "output_type": "execute_result"
    }
   ],
   "source": [
    "null_values=df.isnull().sum()\n",
    "null_values=pd.DataFrame(null_values,columns=['null'])\n",
    "j=1\n",
    "sum_tot=len(df)\n",
    "null_values['percent']=null_values['null']/sum_tot\n",
    "round(null_values*100,3).sort_values('percent',ascending=False)\n"
   ]
  },
  {
   "cell_type": "code",
   "execution_count": 42,
   "metadata": {
    "execution": {
     "iopub.execute_input": "2023-04-13T10:08:28.383692Z",
     "iopub.status.busy": "2023-04-13T10:08:28.371368Z",
     "iopub.status.idle": "2023-04-13T10:08:28.418166Z",
     "shell.execute_reply": "2023-04-13T10:08:28.417349Z",
     "shell.execute_reply.started": "2023-04-13T09:15:55.938938Z"
    },
    "papermill": {
     "duration": 0.122046,
     "end_time": "2023-04-13T10:08:28.418335",
     "exception": false,
     "start_time": "2023-04-13T10:08:28.296289",
     "status": "completed"
    },
    "tags": []
   },
   "outputs": [],
   "source": [
    "df['paint_color'] = df['paint_color'].fillna(method='ffill')\n",
    "df['drive'] = df['drive'].fillna(method='ffill')"
   ]
  },
  {
   "cell_type": "code",
   "execution_count": 43,
   "metadata": {
    "execution": {
     "iopub.execute_input": "2023-04-13T10:08:28.575253Z",
     "iopub.status.busy": "2023-04-13T10:08:28.562531Z",
     "iopub.status.idle": "2023-04-13T10:08:28.606121Z",
     "shell.execute_reply": "2023-04-13T10:08:28.606656Z",
     "shell.execute_reply.started": "2023-04-13T09:15:55.989862Z"
    },
    "papermill": {
     "duration": 0.119785,
     "end_time": "2023-04-13T10:08:28.606854",
     "exception": false,
     "start_time": "2023-04-13T10:08:28.487069",
     "status": "completed"
    },
    "tags": []
   },
   "outputs": [],
   "source": [
    "df['type'] = df['type'].fillna(method='ffill')\n",
    "df['cylinders'] = df['cylinders'].fillna(method='ffill')"
   ]
  },
  {
   "cell_type": "code",
   "execution_count": 44,
   "metadata": {
    "execution": {
     "iopub.execute_input": "2023-04-13T10:08:28.757517Z",
     "iopub.status.busy": "2023-04-13T10:08:28.756418Z",
     "iopub.status.idle": "2023-04-13T10:08:28.902167Z",
     "shell.execute_reply": "2023-04-13T10:08:28.901489Z",
     "shell.execute_reply.started": "2023-04-13T09:15:56.036762Z"
    },
    "papermill": {
     "duration": 0.225708,
     "end_time": "2023-04-13T10:08:28.902313",
     "exception": false,
     "start_time": "2023-04-13T10:08:28.676605",
     "status": "completed"
    },
    "tags": []
   },
   "outputs": [
    {
     "data": {
      "text/plain": [
       "price           0\n",
       "year            0\n",
       "manufacturer    0\n",
       "model           0\n",
       "condition       0\n",
       "cylinders       0\n",
       "fuel            0\n",
       "odometer        0\n",
       "title_status    0\n",
       "transmission    0\n",
       "drive           1\n",
       "type            0\n",
       "paint_color     0\n",
       "state           0\n",
       "posting_date    0\n",
       "dtype: int64"
      ]
     },
     "execution_count": 44,
     "metadata": {},
     "output_type": "execute_result"
    }
   ],
   "source": [
    "df.isnull().sum()"
   ]
  },
  {
   "cell_type": "code",
   "execution_count": 45,
   "metadata": {
    "execution": {
     "iopub.execute_input": "2023-04-13T10:08:29.044880Z",
     "iopub.status.busy": "2023-04-13T10:08:29.043856Z",
     "iopub.status.idle": "2023-04-13T10:08:29.142129Z",
     "shell.execute_reply": "2023-04-13T10:08:29.141302Z",
     "shell.execute_reply.started": "2023-04-13T09:15:56.178371Z"
    },
    "papermill": {
     "duration": 0.170594,
     "end_time": "2023-04-13T10:08:29.142292",
     "exception": false,
     "start_time": "2023-04-13T10:08:28.971698",
     "status": "completed"
    },
    "tags": []
   },
   "outputs": [],
   "source": [
    "df=df.dropna(subset=['cylinders','drive'])"
   ]
  },
  {
   "cell_type": "code",
   "execution_count": 46,
   "metadata": {
    "execution": {
     "iopub.execute_input": "2023-04-13T10:08:29.288145Z",
     "iopub.status.busy": "2023-04-13T10:08:29.287174Z",
     "iopub.status.idle": "2023-04-13T10:08:29.464380Z",
     "shell.execute_reply": "2023-04-13T10:08:29.463807Z",
     "shell.execute_reply.started": "2023-04-13T09:15:56.273913Z"
    },
    "papermill": {
     "duration": 0.253546,
     "end_time": "2023-04-13T10:08:29.464512",
     "exception": false,
     "start_time": "2023-04-13T10:08:29.210966",
     "status": "completed"
    },
    "tags": []
   },
   "outputs": [
    {
     "data": {
      "text/plain": [
       "price           0\n",
       "year            0\n",
       "manufacturer    0\n",
       "model           0\n",
       "condition       0\n",
       "cylinders       0\n",
       "fuel            0\n",
       "odometer        0\n",
       "title_status    0\n",
       "transmission    0\n",
       "drive           0\n",
       "type            0\n",
       "paint_color     0\n",
       "state           0\n",
       "posting_date    0\n",
       "dtype: int64"
      ]
     },
     "execution_count": 46,
     "metadata": {},
     "output_type": "execute_result"
    }
   ],
   "source": [
    "df.isnull().sum()"
   ]
  },
  {
   "cell_type": "code",
   "execution_count": 47,
   "metadata": {
    "execution": {
     "iopub.execute_input": "2023-04-13T10:08:29.605686Z",
     "iopub.status.busy": "2023-04-13T10:08:29.604999Z",
     "iopub.status.idle": "2023-04-13T10:08:29.610329Z",
     "shell.execute_reply": "2023-04-13T10:08:29.610826Z",
     "shell.execute_reply.started": "2023-04-13T09:15:56.417634Z"
    },
    "papermill": {
     "duration": 0.077491,
     "end_time": "2023-04-13T10:08:29.611010",
     "exception": false,
     "start_time": "2023-04-13T10:08:29.533519",
     "status": "completed"
    },
    "tags": []
   },
   "outputs": [],
   "source": [
    "from scipy import stats"
   ]
  },
  {
   "cell_type": "code",
   "execution_count": 48,
   "metadata": {
    "execution": {
     "iopub.execute_input": "2023-04-13T10:08:29.755674Z",
     "iopub.status.busy": "2023-04-13T10:08:29.754968Z",
     "iopub.status.idle": "2023-04-13T10:08:36.799049Z",
     "shell.execute_reply": "2023-04-13T10:08:36.799605Z",
     "shell.execute_reply.started": "2023-04-13T09:15:56.423032Z"
    },
    "papermill": {
     "duration": 7.120452,
     "end_time": "2023-04-13T10:08:36.799769",
     "exception": false,
     "start_time": "2023-04-13T10:08:29.679317",
     "status": "completed"
    },
    "tags": []
   },
   "outputs": [
    {
     "data": {
      "text/plain": [
       "<seaborn.axisgrid.PairGrid at 0x7ed3f8f03f50>"
      ]
     },
     "execution_count": 48,
     "metadata": {},
     "output_type": "execute_result"
    },
    {
     "data": {
      "image/png": "[encoded data removed]",
      "text/plain": [
       "<Figure size 540x540 with 12 Axes>"
      ]
     },
     "metadata": {},
     "output_type": "display_data"
    }
   ],
   "source": [
    "sns.pairplot(df)"
   ]
  },
  {
   "cell_type": "code",
   "execution_count": 49,
   "metadata": {
    "execution": {
     "iopub.execute_input": "2023-04-13T10:08:36.957731Z",
     "iopub.status.busy": "2023-04-13T10:08:36.956848Z",
     "iopub.status.idle": "2023-04-13T10:08:37.098949Z",
     "shell.execute_reply": "2023-04-13T10:08:37.098388Z",
     "shell.execute_reply.started": "2023-04-13T09:16:03.363789Z"
    },
    "papermill": {
     "duration": 0.22499,
     "end_time": "2023-04-13T10:08:37.099089",
     "exception": false,
     "start_time": "2023-04-13T10:08:36.874099",
     "status": "completed"
    },
    "tags": []
   },
   "outputs": [
    {
     "name": "stdout",
     "output_type": "stream",
     "text": [
      "<class 'pandas.core.frame.DataFrame'>\n",
      "Int64Index: 260544 entries, 31 to 426875\n",
      "Data columns (total 15 columns):\n",
      " #   Column        Non-Null Count   Dtype  \n",
      "---  ------        --------------   -----  \n",
      " 0   price         260544 non-null  int64  \n",
      " 1   year          260544 non-null  float64\n",
      " 2   manufacturer  260544 non-null  object \n",
      " 3   model         260544 non-null  object \n",
      " 4   condition     260544 non-null  object \n",
      " 5   cylinders     260544 non-null  object \n",
      " 6   fuel          260544 non-null  object \n",
      " 7   odometer      260544 non-null  float64\n",
      " 8   title_status  260544 non-null  object \n",
      " 9   transmission  260544 non-null  object \n",
      " 10  drive         260544 non-null  object \n",
      " 11  type          260544 non-null  object \n",
      " 12  paint_color   260544 non-null  object \n",
      " 13  state         260544 non-null  object \n",
      " 14  posting_date  260544 non-null  object \n",
      "dtypes: float64(2), int64(1), object(12)\n",
      "memory usage: 41.8+ MB\n"
     ]
    }
   ],
   "source": [
    "df.info()"
   ]
  },
  {
   "cell_type": "code",
   "execution_count": 50,
   "metadata": {
    "execution": {
     "iopub.execute_input": "2023-04-13T10:08:37.258758Z",
     "iopub.status.busy": "2023-04-13T10:08:37.257615Z",
     "iopub.status.idle": "2023-04-13T10:08:38.061507Z",
     "shell.execute_reply": "2023-04-13T10:08:38.062430Z",
     "shell.execute_reply.started": "2023-04-13T09:16:03.507582Z"
    },
    "papermill": {
     "duration": 0.887223,
     "end_time": "2023-04-13T10:08:38.062728",
     "exception": false,
     "start_time": "2023-04-13T10:08:37.175505",
     "status": "completed"
    },
    "tags": []
   },
   "outputs": [
    {
     "name": "stdout",
     "output_type": "stream",
     "text": [
      "6995     2994\n",
      "7995     2925\n",
      "8995     2661\n",
      "9995     2636\n",
      "4500     2550\n",
      "         ... \n",
      "1089        1\n",
      "17481       1\n",
      "25677       1\n",
      "9541        1\n",
      "4098        1\n",
      "Name: price, Length: 8852, dtype: int64\n",
      "2013.0    22597\n",
      "2014.0    19307\n",
      "2012.0    17634\n",
      "2015.0    17628\n",
      "2017.0    16025\n",
      "          ...  \n",
      "2022.0       18\n",
      "1942.0        5\n",
      "1944.0        3\n",
      "1945.0        1\n",
      "1943.0        1\n",
      "Name: year, Length: 82, dtype: int64\n",
      "ford               41804\n",
      "chevrolet          33461\n",
      "toyota             22854\n",
      "honda              17595\n",
      "nissan             14847\n",
      "jeep               11262\n",
      "bmw                 9158\n",
      "dodge               8705\n",
      "hyundai             8474\n",
      "gmc                 8384\n",
      "subaru              7630\n",
      "volkswagen          7550\n",
      "kia                 6809\n",
      "mercedes-benz       6537\n",
      "ram                 6104\n",
      "lexus               5086\n",
      "chrysler            5003\n",
      "mazda               4199\n",
      "buick               4177\n",
      "cadillac            4089\n",
      "audi                3708\n",
      "acura               3584\n",
      "infiniti            2916\n",
      "mitsubishi          2699\n",
      "lincoln             2582\n",
      "volvo               2162\n",
      "pontiac             1971\n",
      "mini                1881\n",
      "mercury             1026\n",
      "saturn              1021\n",
      "jaguar               830\n",
      "rover                820\n",
      "fiat                 727\n",
      "porsche              539\n",
      "alfa-romeo           151\n",
      "harley-davidson      105\n",
      "datsun                52\n",
      "tesla                 25\n",
      "land rover             9\n",
      "ferrari                4\n",
      "aston-martin           4\n",
      "Name: manufacturer, dtype: int64\n",
      "f-150                                     4246\n",
      "camry                                     2670\n",
      "silverado 1500                            2601\n",
      "accord                                    2566\n",
      "civic                                     2468\n",
      "                                          ... \n",
      "300 coupe with t-tops                        1\n",
      "taurus sel fwd 6-speed automatic             1\n",
      "eclipse gst                                  1\n",
      "f-150 raptor carbon                          1\n",
      "f-250 super duty xl xl 2dr regular cab       1\n",
      "Name: model, Length: 16429, dtype: int64\n",
      "good         80749\n",
      "excellent    76535\n",
      "like new     49164\n",
      "salvage      31610\n",
      "fair         17657\n",
      "new           4829\n",
      "Name: condition, dtype: int64\n",
      "6 cylinders     97734\n",
      "4 cylinders     96590\n",
      "8 cylinders     61338\n",
      "5 cylinders      2137\n",
      "10 cylinders     1165\n",
      "other             841\n",
      "3 cylinders       643\n",
      "12 cylinders       96\n",
      "Name: cylinders, dtype: int64\n",
      "gas         234999\n",
      "other        12491\n",
      "diesel        8393\n",
      "hybrid        3914\n",
      "electric       747\n",
      "Name: fuel, dtype: int64\n",
      "200000.0    1465\n",
      "100000.0    1323\n",
      "150000.0    1313\n",
      "160000.0    1124\n",
      "140000.0    1089\n",
      "            ... \n",
      "54284.0        1\n",
      "61466.0        1\n",
      "162740.0       1\n",
      "127777.0       1\n",
      "56943.0        1\n",
      "Name: odometer, Length: 77834, dtype: int64\n",
      "clean         249466\n",
      "rebuilt         6172\n",
      "salvage         3407\n",
      "lien             947\n",
      "missing          455\n",
      "parts only        97\n",
      "Name: title_status, dtype: int64\n",
      "automatic    219136\n",
      "other         24834\n",
      "manual        16574\n",
      "Name: transmission, dtype: int64\n",
      "fwd    118657\n",
      "4wd     93878\n",
      "rwd     48009\n",
      "Name: drive, dtype: int64\n",
      "sedan          82386\n",
      "SUV            65521\n",
      "pickup         23332\n",
      "truck          19200\n",
      "hatchback      15860\n",
      "coupe          12973\n",
      "other          10562\n",
      "wagon          10425\n",
      "van             7133\n",
      "convertible     6615\n",
      "mini-van        5544\n",
      "offroad          678\n",
      "bus              315\n",
      "Name: type, dtype: int64\n",
      "white     61611\n",
      "black     51936\n",
      "silver    41352\n",
      "blue      29678\n",
      "red       26736\n",
      "grey      24747\n",
      "green      7459\n",
      "brown      6682\n",
      "custom     6174\n",
      "orange     1839\n",
      "yellow     1651\n",
      "purple      679\n",
      "Name: paint_color, dtype: int64\n",
      "ca    30094\n",
      "fl    17969\n",
      "tx    13348\n",
      "ny    12343\n",
      "oh    11821\n",
      "mi    11435\n",
      "pa     9106\n",
      "or     8634\n",
      "wi     8095\n",
      "nc     8037\n",
      "co     7103\n",
      "tn     6928\n",
      "nj     6877\n",
      "il     6560\n",
      "va     6259\n",
      "wa     6108\n",
      "ia     5900\n",
      "ma     5661\n",
      "mn     5467\n",
      "az     5378\n",
      "id     5130\n",
      "ks     4021\n",
      "ga     3993\n",
      "ct     3672\n",
      "ok     3617\n",
      "in     3575\n",
      "sc     3419\n",
      "mt     3302\n",
      "md     2871\n",
      "ky     2787\n",
      "al     2754\n",
      "mo     2367\n",
      "nm     2362\n",
      "ak     2114\n",
      "nh     2092\n",
      "nv     2034\n",
      "ar     2030\n",
      "dc     2002\n",
      "me     1881\n",
      "vt     1808\n",
      "la     1747\n",
      "ri     1637\n",
      "hi     1535\n",
      "sd      871\n",
      "ms      690\n",
      "ne      670\n",
      "de      643\n",
      "ut      642\n",
      "wv      500\n",
      "wy      359\n",
      "nd      296\n",
      "Name: state, dtype: int64\n",
      "2021-04-13T13:19:15-0500    11\n",
      "2021-04-16T12:07:56-0500    10\n",
      "2021-04-27T15:34:58-0400     9\n",
      "2021-04-16T12:07:22-0500     8\n",
      "2021-04-30T10:39:01-0500     8\n",
      "                            ..\n",
      "2021-04-30T13:37:05-1000     1\n",
      "2021-04-27T14:51:00-0400     1\n",
      "2021-04-30T22:55:49-0600     1\n",
      "2021-04-12T12:51:31-0400     1\n",
      "2021-04-23T14:18:11-0400     1\n",
      "Name: posting_date, Length: 244564, dtype: int64\n"
     ]
    }
   ],
   "source": [
    "c=df.columns\n",
    "for i in c:\n",
    "    print(df[i].value_counts())"
   ]
  },
  {
   "cell_type": "code",
   "execution_count": 51,
   "metadata": {
    "execution": {
     "iopub.execute_input": "2023-04-13T10:08:38.245747Z",
     "iopub.status.busy": "2023-04-13T10:08:38.244809Z",
     "iopub.status.idle": "2023-04-13T10:08:40.713658Z",
     "shell.execute_reply": "2023-04-13T10:08:40.714134Z",
     "shell.execute_reply.started": "2023-04-13T09:16:04.151168Z"
    },
    "papermill": {
     "duration": 2.562857,
     "end_time": "2023-04-13T10:08:40.714311",
     "exception": false,
     "start_time": "2023-04-13T10:08:38.151454",
     "status": "completed"
    },
    "tags": []
   },
   "outputs": [
    {
     "data": {
      "image/png": "[encoded data removed]",
      "text/plain": [
       "<Figure size 432x288 with 1 Axes>"
      ]
     },
     "metadata": {},
     "output_type": "display_data"
    }
   ],
   "source": [
    "ax = sns.barplot(x=\"condition\", y=\"price\", data=df)"
   ]
  },
  {
   "cell_type": "code",
   "execution_count": 52,
   "metadata": {
    "execution": {
     "iopub.execute_input": "2023-04-13T10:08:40.878354Z",
     "iopub.status.busy": "2023-04-13T10:08:40.877685Z",
     "iopub.status.idle": "2023-04-13T10:08:42.372737Z",
     "shell.execute_reply": "2023-04-13T10:08:42.373245Z",
     "shell.execute_reply.started": "2023-04-13T09:16:06.622415Z"
    },
    "papermill": {
     "duration": 1.579178,
     "end_time": "2023-04-13T10:08:42.373412",
     "exception": false,
     "start_time": "2023-04-13T10:08:40.794234",
     "status": "completed"
    },
    "tags": []
   },
   "outputs": [
    {
     "data": {
      "text/plain": [
       "<seaborn.axisgrid.FacetGrid at 0x7ed3f834ef50>"
      ]
     },
     "execution_count": 52,
     "metadata": {},
     "output_type": "execute_result"
    },
    {
     "data": {
      "image/png": "[encoded data removed]",
      "text/plain": [
       "<Figure size 360x360 with 1 Axes>"
      ]
     },
     "metadata": {},
     "output_type": "display_data"
    }
   ],
   "source": [
    "sns.catplot(y=\"cylinders\", x=\"price\",kind = \"violin\", data=df)"
   ]
  },
  {
   "cell_type": "code",
   "execution_count": 53,
   "metadata": {
    "execution": {
     "iopub.execute_input": "2023-04-13T10:08:42.543637Z",
     "iopub.status.busy": "2023-04-13T10:08:42.542572Z",
     "iopub.status.idle": "2023-04-13T10:08:43.214971Z",
     "shell.execute_reply": "2023-04-13T10:08:43.215533Z",
     "shell.execute_reply.started": "2023-04-13T09:16:08.116440Z"
    },
    "papermill": {
     "duration": 0.759219,
     "end_time": "2023-04-13T10:08:43.215736",
     "exception": false,
     "start_time": "2023-04-13T10:08:42.456517",
     "status": "completed"
    },
    "tags": []
   },
   "outputs": [
    {
     "data": {
      "text/plain": [
       "<seaborn.axisgrid.FacetGrid at 0x7ed3f8381190>"
      ]
     },
     "execution_count": 53,
     "metadata": {},
     "output_type": "execute_result"
    },
    {
     "data": {
      "image/png": "[encoded data removed]",
      "text/plain": [
       "<Figure size 360x360 with 1 Axes>"
      ]
     },
     "metadata": {},
     "output_type": "display_data"
    }
   ],
   "source": [
    "sns.catplot(x=\"fuel\", y=\"price\", kind=\"boxen\",\n",
    "            data=df)"
   ]
  },
  {
   "cell_type": "code",
   "execution_count": 54,
   "metadata": {
    "execution": {
     "iopub.execute_input": "2023-04-13T10:08:43.386883Z",
     "iopub.status.busy": "2023-04-13T10:08:43.385819Z",
     "iopub.status.idle": "2023-04-13T10:08:46.580267Z",
     "shell.execute_reply": "2023-04-13T10:08:46.580759Z",
     "shell.execute_reply.started": "2023-04-13T09:16:08.747022Z"
    },
    "papermill": {
     "duration": 3.281809,
     "end_time": "2023-04-13T10:08:46.580954",
     "exception": false,
     "start_time": "2023-04-13T10:08:43.299145",
     "status": "completed"
    },
    "tags": []
   },
   "outputs": [
    {
     "data": {
      "text/plain": [
       "<seaborn.axisgrid.FacetGrid at 0x7ed3f828cf10>"
      ]
     },
     "execution_count": 54,
     "metadata": {},
     "output_type": "execute_result"
    },
    {
     "data": {
      "image/png": "[encoded data removed]",
      "text/plain": [
       "<Figure size 360x360 with 1 Axes>"
      ]
     },
     "metadata": {},
     "output_type": "display_data"
    }
   ],
   "source": [
    "sns.catplot(x=\"transmission\", y=\"price\",kind=\"bar\", palette=\"ch:.25\", data=df)"
   ]
  },
  {
   "cell_type": "code",
   "execution_count": 55,
   "metadata": {
    "execution": {
     "iopub.execute_input": "2023-04-13T10:08:46.747954Z",
     "iopub.status.busy": "2023-04-13T10:08:46.746965Z",
     "iopub.status.idle": "2023-04-13T10:08:47.557466Z",
     "shell.execute_reply": "2023-04-13T10:08:47.558043Z",
     "shell.execute_reply.started": "2023-04-13T09:16:11.802070Z"
    },
    "papermill": {
     "duration": 0.895573,
     "end_time": "2023-04-13T10:08:47.558267",
     "exception": false,
     "start_time": "2023-04-13T10:08:46.662694",
     "status": "completed"
    },
    "tags": []
   },
   "outputs": [
    {
     "data": {
      "image/png": "[encoded data removed]",
      "text/plain": [
       "<Figure size 360x360 with 1 Axes>"
      ]
     },
     "metadata": {},
     "output_type": "display_data"
    }
   ],
   "source": [
    "sns.catplot(y=\"type\", x=\"price\",kind=\"boxen\", data=df);"
   ]
  },
  {
   "cell_type": "code",
   "execution_count": 56,
   "metadata": {
    "execution": {
     "iopub.execute_input": "2023-04-13T10:08:47.736483Z",
     "iopub.status.busy": "2023-04-13T10:08:47.735701Z",
     "iopub.status.idle": "2023-04-13T10:08:49.401067Z",
     "shell.execute_reply": "2023-04-13T10:08:49.401622Z",
     "shell.execute_reply.started": "2023-04-13T09:16:12.697742Z"
    },
    "papermill": {
     "duration": 1.756698,
     "end_time": "2023-04-13T10:08:49.401819",
     "exception": false,
     "start_time": "2023-04-13T10:08:47.645121",
     "status": "completed"
    },
    "tags": []
   },
   "outputs": [
    {
     "data": {
      "image/png": "[encoded data removed]",
      "text/plain": [
       "<Figure size 360x360 with 1 Axes>"
      ]
     },
     "metadata": {},
     "output_type": "display_data"
    }
   ],
   "source": [
    "sns.catplot(y=\"paint_color\", x=\"price\",kind=\"violin\", data=df);"
   ]
  },
  {
   "cell_type": "code",
   "execution_count": 57,
   "metadata": {
    "execution": {
     "iopub.execute_input": "2023-04-13T10:08:49.580704Z",
     "iopub.status.busy": "2023-04-13T10:08:49.580016Z",
     "iopub.status.idle": "2023-04-13T10:08:50.954339Z",
     "shell.execute_reply": "2023-04-13T10:08:50.953748Z",
     "shell.execute_reply.started": "2023-04-13T09:16:14.366292Z"
    },
    "papermill": {
     "duration": 1.465241,
     "end_time": "2023-04-13T10:08:50.954488",
     "exception": false,
     "start_time": "2023-04-13T10:08:49.489247",
     "status": "completed"
    },
    "tags": []
   },
   "outputs": [
    {
     "data": {
      "image/png": "[encoded data removed]",
      "text/plain": [
       "<Figure size 360x360 with 1 Axes>"
      ]
     },
     "metadata": {},
     "output_type": "display_data"
    }
   ],
   "source": [
    "sns.catplot(y=\"manufacturer\", x=\"price\",kind=\"box\", data=df);"
   ]
  },
  {
   "cell_type": "code",
   "execution_count": 58,
   "metadata": {
    "execution": {
     "iopub.execute_input": "2023-04-13T10:08:51.142046Z",
     "iopub.status.busy": "2023-04-13T10:08:51.141174Z",
     "iopub.status.idle": "2023-04-13T10:08:51.209832Z",
     "shell.execute_reply": "2023-04-13T10:08:51.210404Z",
     "shell.execute_reply.started": "2023-04-13T09:16:15.685735Z"
    },
    "papermill": {
     "duration": 0.166143,
     "end_time": "2023-04-13T10:08:51.210631",
     "exception": false,
     "start_time": "2023-04-13T10:08:51.044488",
     "status": "completed"
    },
    "tags": []
   },
   "outputs": [],
   "source": [
    "from sklearn import preprocessing\n",
    "import pandas as pd\n",
    "le = preprocessing.LabelEncoder()"
   ]
  },
  {
   "cell_type": "code",
   "execution_count": 59,
   "metadata": {
    "execution": {
     "iopub.execute_input": "2023-04-13T10:08:51.429245Z",
     "iopub.status.busy": "2023-04-13T10:08:51.428002Z",
     "iopub.status.idle": "2023-04-13T10:08:51.433636Z",
     "shell.execute_reply": "2023-04-13T10:08:51.433022Z",
     "shell.execute_reply.started": "2023-04-13T09:16:15.748431Z"
    },
    "papermill": {
     "duration": 0.129921,
     "end_time": "2023-04-13T10:08:51.433781",
     "exception": false,
     "start_time": "2023-04-13T10:08:51.303860",
     "status": "completed"
    },
    "tags": []
   },
   "outputs": [
    {
     "data": {
      "text/plain": [
       "Index(['price', 'year', 'manufacturer', 'model', 'condition', 'cylinders',\n",
       "       'fuel', 'odometer', 'title_status', 'transmission', 'drive', 'type',\n",
       "       'paint_color', 'state', 'posting_date'],\n",
       "      dtype='object')"
      ]
     },
     "execution_count": 59,
     "metadata": {},
     "output_type": "execute_result"
    }
   ],
   "source": [
    "df.columns"
   ]
  },
  {
   "cell_type": "code",
   "execution_count": 60,
   "metadata": {
    "execution": {
     "iopub.execute_input": "2023-04-13T10:08:51.634386Z",
     "iopub.status.busy": "2023-04-13T10:08:51.632125Z",
     "iopub.status.idle": "2023-04-13T10:08:52.588043Z",
     "shell.execute_reply": "2023-04-13T10:08:52.586933Z",
     "shell.execute_reply.started": "2023-04-13T09:16:15.755996Z"
    },
    "papermill": {
     "duration": 1.05512,
     "end_time": "2023-04-13T10:08:52.588200",
     "exception": false,
     "start_time": "2023-04-13T10:08:51.533080",
     "status": "completed"
    },
    "tags": []
   },
   "outputs": [],
   "source": [
    "df[['manufacturer', 'model', 'condition',\n",
    "       'cylinders', 'fuel', 'title_status', 'transmission',\n",
    "       'drive', 'type', 'paint_color', 'state']]=df[['manufacturer', 'model', 'condition',\n",
    "       'cylinders', 'fuel', 'title_status', 'transmission',\n",
    "       'drive', 'type', 'paint_color', 'state']].apply(le.fit_transform)"
   ]
  },
  {
   "cell_type": "code",
   "execution_count": 61,
   "metadata": {
    "execution": {
     "iopub.execute_input": "2023-04-13T10:08:52.770634Z",
     "iopub.status.busy": "2023-04-13T10:08:52.769645Z",
     "iopub.status.idle": "2023-04-13T10:08:52.948633Z",
     "shell.execute_reply": "2023-04-13T10:08:52.947449Z",
     "shell.execute_reply.started": "2023-04-13T09:16:16.726906Z"
    },
    "papermill": {
     "duration": 0.27099,
     "end_time": "2023-04-13T10:08:52.948768",
     "exception": false,
     "start_time": "2023-04-13T10:08:52.677778",
     "status": "completed"
    },
    "tags": []
   },
   "outputs": [],
   "source": [
    "from sklearn import datasets, linear_model\n",
    "from sklearn.model_selection import train_test_split\n",
    "from matplotlib import pyplot as plt"
   ]
  },
  {
   "cell_type": "code",
   "execution_count": 62,
   "metadata": {
    "execution": {
     "iopub.execute_input": "2023-04-13T10:08:53.127335Z",
     "iopub.status.busy": "2023-04-13T10:08:53.126341Z",
     "iopub.status.idle": "2023-04-13T10:08:53.171759Z",
     "shell.execute_reply": "2023-04-13T10:08:53.172298Z",
     "shell.execute_reply.started": "2023-04-13T09:16:16.916628Z"
    },
    "papermill": {
     "duration": 0.135625,
     "end_time": "2023-04-13T10:08:53.172456",
     "exception": false,
     "start_time": "2023-04-13T10:08:53.036831",
     "status": "completed"
    },
    "tags": []
   },
   "outputs": [
    {
     "name": "stdout",
     "output_type": "stream",
     "text": [
      "<class 'pandas.core.frame.DataFrame'>\n",
      "Int64Index: 260544 entries, 31 to 426875\n",
      "Data columns (total 15 columns):\n",
      " #   Column        Non-Null Count   Dtype  \n",
      "---  ------        --------------   -----  \n",
      " 0   price         260544 non-null  int64  \n",
      " 1   year          260544 non-null  float64\n",
      " 2   manufacturer  260544 non-null  int64  \n",
      " 3   model         260544 non-null  int64  \n",
      " 4   condition     260544 non-null  int64  \n",
      " 5   cylinders     260544 non-null  int64  \n",
      " 6   fuel          260544 non-null  int64  \n",
      " 7   odometer      260544 non-null  float64\n",
      " 8   title_status  260544 non-null  int64  \n",
      " 9   transmission  260544 non-null  int64  \n",
      " 10  drive         260544 non-null  int64  \n",
      " 11  type          260544 non-null  int64  \n",
      " 12  paint_color   260544 non-null  int64  \n",
      " 13  state         260544 non-null  int64  \n",
      " 14  posting_date  260544 non-null  object \n",
      "dtypes: float64(2), int64(12), object(1)\n",
      "memory usage: 41.8+ MB\n"
     ]
    }
   ],
   "source": [
    "df.info()"
   ]
  },
  {
   "cell_type": "code",
   "execution_count": 63,
   "metadata": {
    "execution": {
     "iopub.execute_input": "2023-04-13T10:08:53.353648Z",
     "iopub.status.busy": "2023-04-13T10:08:53.352772Z",
     "iopub.status.idle": "2023-04-13T10:08:53.366752Z",
     "shell.execute_reply": "2023-04-13T10:08:53.367275Z",
     "shell.execute_reply.started": "2023-04-13T09:16:16.968629Z"
    },
    "papermill": {
     "duration": 0.108199,
     "end_time": "2023-04-13T10:08:53.367432",
     "exception": false,
     "start_time": "2023-04-13T10:08:53.259233",
     "status": "completed"
    },
    "tags": []
   },
   "outputs": [],
   "source": [
    "y= df.price\n",
    "X= df.drop(['price', 'posting_date'],axis=1)"
   ]
  },
  {
   "cell_type": "code",
   "execution_count": 64,
   "metadata": {
    "execution": {
     "iopub.execute_input": "2023-04-13T10:08:53.549020Z",
     "iopub.status.busy": "2023-04-13T10:08:53.548198Z",
     "iopub.status.idle": "2023-04-13T10:08:53.608033Z",
     "shell.execute_reply": "2023-04-13T10:08:53.608622Z",
     "shell.execute_reply.started": "2023-04-13T09:16:16.983081Z"
    },
    "papermill": {
     "duration": 0.151882,
     "end_time": "2023-04-13T10:08:53.608792",
     "exception": false,
     "start_time": "2023-04-13T10:08:53.456910",
     "status": "completed"
    },
    "tags": []
   },
   "outputs": [],
   "source": [
    "X_train, X_test, y_train, y_test = train_test_split(X, y, test_size=0.2, random_state=42)"
   ]
  },
  {
   "cell_type": "code",
   "execution_count": 65,
   "metadata": {
    "execution": {
     "iopub.execute_input": "2023-04-13T10:08:53.792796Z",
     "iopub.status.busy": "2023-04-13T10:08:53.791820Z",
     "iopub.status.idle": "2023-04-13T10:08:53.795518Z",
     "shell.execute_reply": "2023-04-13T10:08:53.796191Z",
     "shell.execute_reply.started": "2023-04-13T09:16:17.033672Z"
    },
    "papermill": {
     "duration": 0.099356,
     "end_time": "2023-04-13T10:08:53.796394",
     "exception": false,
     "start_time": "2023-04-13T10:08:53.697038",
     "status": "completed"
    },
    "tags": []
   },
   "outputs": [
    {
     "name": "stdout",
     "output_type": "stream",
     "text": [
      "(208435, 13) (208435,)\n",
      "(52109, 13) (52109,)\n"
     ]
    }
   ],
   "source": [
    "print (X_train.shape, y_train.shape)\n",
    "print (X_test.shape, y_test.shape)"
   ]
  },
  {
   "cell_type": "code",
   "execution_count": 66,
   "metadata": {
    "execution": {
     "iopub.execute_input": "2023-04-13T10:08:53.978788Z",
     "iopub.status.busy": "2023-04-13T10:08:53.978046Z",
     "iopub.status.idle": "2023-04-13T10:08:53.996629Z",
     "shell.execute_reply": "2023-04-13T10:08:53.995906Z",
     "shell.execute_reply.started": "2023-04-13T09:16:17.041690Z"
    },
    "papermill": {
     "duration": 0.110974,
     "end_time": "2023-04-13T10:08:53.996769",
     "exception": false,
     "start_time": "2023-04-13T10:08:53.885795",
     "status": "completed"
    },
    "tags": []
   },
   "outputs": [
    {
     "name": "stdout",
     "output_type": "stream",
     "text": [
      "<class 'pandas.core.frame.DataFrame'>\n",
      "Int64Index: 208435 entries, 237844 to 197706\n",
      "Data columns (total 13 columns):\n",
      " #   Column        Non-Null Count   Dtype  \n",
      "---  ------        --------------   -----  \n",
      " 0   year          208435 non-null  float64\n",
      " 1   manufacturer  208435 non-null  int64  \n",
      " 2   model         208435 non-null  int64  \n",
      " 3   condition     208435 non-null  int64  \n",
      " 4   cylinders     208435 non-null  int64  \n",
      " 5   fuel          208435 non-null  int64  \n",
      " 6   odometer      208435 non-null  float64\n",
      " 7   title_status  208435 non-null  int64  \n",
      " 8   transmission  208435 non-null  int64  \n",
      " 9   drive         208435 non-null  int64  \n",
      " 10  type          208435 non-null  int64  \n",
      " 11  paint_color   208435 non-null  int64  \n",
      " 12  state         208435 non-null  int64  \n",
      "dtypes: float64(2), int64(11)\n",
      "memory usage: 22.3 MB\n"
     ]
    }
   ],
   "source": [
    "X_train.info()"
   ]
  },
  {
   "cell_type": "code",
   "execution_count": 67,
   "metadata": {
    "execution": {
     "iopub.execute_input": "2023-04-13T10:08:54.177680Z",
     "iopub.status.busy": "2023-04-13T10:08:54.176841Z",
     "iopub.status.idle": "2023-04-13T10:08:54.283913Z",
     "shell.execute_reply": "2023-04-13T10:08:54.283233Z",
     "shell.execute_reply.started": "2023-04-13T09:16:17.063990Z"
    },
    "papermill": {
     "duration": 0.200116,
     "end_time": "2023-04-13T10:08:54.284059",
     "exception": false,
     "start_time": "2023-04-13T10:08:54.083943",
     "status": "completed"
    },
    "tags": []
   },
   "outputs": [],
   "source": [
    "from sklearn.ensemble import RandomForestRegressor\n",
    "\n",
    "regressor = RandomForestRegressor(n_estimators=20, random_state=0)\n"
   ]
  },
  {
   "cell_type": "code",
   "execution_count": 68,
   "metadata": {
    "execution": {
     "iopub.execute_input": "2023-04-13T10:08:54.480939Z",
     "iopub.status.busy": "2023-04-13T10:08:54.480195Z",
     "iopub.status.idle": "2023-04-13T10:09:22.475866Z",
     "shell.execute_reply": "2023-04-13T10:09:22.475179Z",
     "shell.execute_reply.started": "2023-04-13T09:16:17.169457Z"
    },
    "papermill": {
     "duration": 28.098126,
     "end_time": "2023-04-13T10:09:22.476013",
     "exception": false,
     "start_time": "2023-04-13T10:08:54.377887",
     "status": "completed"
    },
    "tags": []
   },
   "outputs": [
    {
     "data": {
      "text/plain": [
       "RandomForestRegressor(bootstrap=True, ccp_alpha=0.0, criterion='mse',\n",
       "                      max_depth=None, max_features='auto', max_leaf_nodes=None,\n",
       "                      max_samples=None, min_impurity_decrease=0.0,\n",
       "                      min_impurity_split=None, min_samples_leaf=1,\n",
       "                      min_samples_split=2, min_weight_fraction_leaf=0.0,\n",
       "                      n_estimators=20, n_jobs=None, oob_score=False,\n",
       "                      random_state=0, verbose=0, warm_start=False)"
      ]
     },
     "execution_count": 68,
     "metadata": {},
     "output_type": "execute_result"
    }
   ],
   "source": [
    "regressor.fit(X_train, y_train)\n"
   ]
  },
  {
   "cell_type": "code",
   "execution_count": 69,
   "metadata": {
    "execution": {
     "iopub.execute_input": "2023-04-13T10:09:22.664889Z",
     "iopub.status.busy": "2023-04-13T10:09:22.664174Z",
     "iopub.status.idle": "2023-04-13T10:09:23.254262Z",
     "shell.execute_reply": "2023-04-13T10:09:23.254828Z",
     "shell.execute_reply.started": "2023-04-13T09:16:44.502948Z"
    },
    "papermill": {
     "duration": 0.687011,
     "end_time": "2023-04-13T10:09:23.255038",
     "exception": false,
     "start_time": "2023-04-13T10:09:22.568027",
     "status": "completed"
    },
    "tags": []
   },
   "outputs": [],
   "source": [
    "\n",
    "y_pred = regressor.predict(X_test)"
   ]
  },
  {
   "cell_type": "code",
   "execution_count": 70,
   "metadata": {
    "execution": {
     "iopub.execute_input": "2023-04-13T10:09:23.442728Z",
     "iopub.status.busy": "2023-04-13T10:09:23.442020Z",
     "iopub.status.idle": "2023-04-13T10:09:23.443357Z",
     "shell.execute_reply": "2023-04-13T10:09:23.444013Z",
     "shell.execute_reply.started": "2023-04-13T09:16:45.142913Z"
    },
    "papermill": {
     "duration": 0.097077,
     "end_time": "2023-04-13T10:09:23.444192",
     "exception": false,
     "start_time": "2023-04-13T10:09:23.347115",
     "status": "completed"
    },
    "tags": []
   },
   "outputs": [],
   "source": [
    "from sklearn import metrics\n",
    "from sklearn.metrics import mean_squared_error as MSE"
   ]
  },
  {
   "cell_type": "code",
   "execution_count": 71,
   "metadata": {
    "execution": {
     "iopub.execute_input": "2023-04-13T10:09:23.627895Z",
     "iopub.status.busy": "2023-04-13T10:09:23.627077Z",
     "iopub.status.idle": "2023-04-13T10:09:24.214440Z",
     "shell.execute_reply": "2023-04-13T10:09:24.215005Z",
     "shell.execute_reply.started": "2023-04-13T09:16:45.150211Z"
    },
    "papermill": {
     "duration": 0.680622,
     "end_time": "2023-04-13T10:09:24.215190",
     "exception": false,
     "start_time": "2023-04-13T10:09:23.534568",
     "status": "completed"
    },
    "tags": []
   },
   "outputs": [
    {
     "name": "stdout",
     "output_type": "stream",
     "text": [
      "Mean Absolute Error: 1848.6\n",
      "Mean Squared Error: 9101582.9\n",
      "Root Mean Squared Error: 3016.88\n",
      "82.68071066311785\n"
     ]
    }
   ],
   "source": [
    "print('Mean Absolute Error:', round(metrics.mean_absolute_error(y_test, y_pred),2))\n",
    "print('Mean Squared Error:', round(metrics.mean_squared_error(y_test, y_pred),2))\n",
    "print('Root Mean Squared Error:', round(np.sqrt(metrics.mean_squared_error(y_test, y_pred)),2))\n",
    "print(regressor.score(X_test,y_test)*100)"
   ]
  }
 ],
 "metadata": {
  "kernelspec": {
   "display_name": "Python 3",
   "language": "python",
   "name": "python3"
  },
  "language_info": {
   "codemirror_mode": {
    "name": "ipython",
    "version": 3
   },
   "file_extension": ".py",
   "mimetype": "text/x-python",
   "name": "python",
   "nbconvert_exporter": "python",
   "pygments_lexer": "ipython3",
   "version": "3.7.6"
  },
  "papermill": {
   "duration": 118.96424,
   "end_time": "2023-04-13T10:09:24.717437",
   "environment_variables": {},
   "exception": null,
   "input_path": "__notebook__.ipynb",
   "output_path": "__notebook__.ipynb",
   "parameters": {},
   "start_time": "2023-04-13T10:07:25.753197",
   "version": "2.1.0"
  }
 },
 "nbformat": 4,
 "nbformat_minor": 4
}
